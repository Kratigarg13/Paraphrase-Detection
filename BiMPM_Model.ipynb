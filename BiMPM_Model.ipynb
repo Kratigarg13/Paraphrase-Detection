{
  "nbformat": 4,
  "nbformat_minor": 0,
  "metadata": {
    "kernelspec": {
      "display_name": "Python 3.8.2 64-bit",
      "language": "python",
      "name": "python38264bitbb0da2287d7d4444947cbf6077af50b1"
    },
    "language_info": {
      "codemirror_mode": {
        "name": "ipython",
        "version": 3
      },
      "file_extension": ".py",
      "mimetype": "text/x-python",
      "name": "python",
      "nbconvert_exporter": "python",
      "pygments_lexer": "ipython3",
      "version": "3.8.5"
    },
    "colab": {
      "name": "BiMPM_Model.ipynb",
      "provenance": [],
      "toc_visible": true
    }
  },
  "cells": [
    {
      "cell_type": "code",
      "metadata": {
        "colab": {
          "base_uri": "https://localhost:8080/"
        },
        "id": "rXb4sNI_hIei",
        "outputId": "0caab76d-19ff-470a-e0db-7b1e04b62ef1"
      },
      "source": [
        "import numpy as np\n",
        "import pandas as pd\n",
        "import os\n",
        "import matplotlib.pyplot as plt\n",
        "import nltk\n",
        "from nltk.corpus import stopwords\n",
        "import io\n",
        "import re\n",
        "from tqdm import tqdm\n",
        "import numpy as np\n",
        "import tensorflow as tf\n",
        "!pip install tf-models-official\n",
        "from official import nlp\n",
        "import official.nlp.optimization\n",
        "from tensorflow import keras\n",
        "from tensorflow.keras import layers\n",
        "# import import_ipynb\n",
        "# from custom_matching_layers import *\n",
        "from sklearn.model_selection import train_test_split\n",
        "import json"
      ],
      "execution_count": null,
      "outputs": [
        {
          "output_type": "stream",
          "text": [
            "Requirement already satisfied: tf-models-official in /usr/local/lib/python3.7/dist-packages (2.4.0)\n",
            "Requirement already satisfied: tensorflow-datasets in /usr/local/lib/python3.7/dist-packages (from tf-models-official) (4.0.1)\n",
            "Requirement already satisfied: numpy>=1.15.4 in /usr/local/lib/python3.7/dist-packages (from tf-models-official) (1.19.5)\n",
            "Requirement already satisfied: psutil>=5.4.3 in /usr/local/lib/python3.7/dist-packages (from tf-models-official) (5.4.8)\n",
            "Requirement already satisfied: seqeval in /usr/local/lib/python3.7/dist-packages (from tf-models-official) (1.2.2)\n",
            "Requirement already satisfied: tensorflow-hub>=0.6.0 in /usr/local/lib/python3.7/dist-packages (from tf-models-official) (0.12.0)\n",
            "Requirement already satisfied: dataclasses in /usr/local/lib/python3.7/dist-packages (from tf-models-official) (0.6)\n",
            "Requirement already satisfied: opencv-python-headless in /usr/local/lib/python3.7/dist-packages (from tf-models-official) (4.5.1.48)\n",
            "Requirement already satisfied: pandas>=0.22.0 in /usr/local/lib/python3.7/dist-packages (from tf-models-official) (1.1.5)\n",
            "Requirement already satisfied: tensorflow-model-optimization>=0.4.1 in /usr/local/lib/python3.7/dist-packages (from tf-models-official) (0.5.0)\n",
            "Requirement already satisfied: sentencepiece in /usr/local/lib/python3.7/dist-packages (from tf-models-official) (0.1.95)\n",
            "Requirement already satisfied: tf-slim>=1.1.0 in /usr/local/lib/python3.7/dist-packages (from tf-models-official) (1.1.0)\n",
            "Requirement already satisfied: Pillow in /usr/local/lib/python3.7/dist-packages (from tf-models-official) (7.1.2)\n",
            "Requirement already satisfied: tensorflow-addons in /usr/local/lib/python3.7/dist-packages (from tf-models-official) (0.12.1)\n",
            "Requirement already satisfied: oauth2client in /usr/local/lib/python3.7/dist-packages (from tf-models-official) (4.1.3)\n",
            "Requirement already satisfied: google-api-python-client>=1.6.7 in /usr/local/lib/python3.7/dist-packages (from tf-models-official) (1.12.8)\n",
            "Requirement already satisfied: gin-config in /usr/local/lib/python3.7/dist-packages (from tf-models-official) (0.4.0)\n",
            "Requirement already satisfied: py-cpuinfo>=3.3.0 in /usr/local/lib/python3.7/dist-packages (from tf-models-official) (8.0.0)\n",
            "Requirement already satisfied: tensorflow>=2.4.0 in /usr/local/lib/python3.7/dist-packages (from tf-models-official) (2.4.1)\n",
            "Requirement already satisfied: google-cloud-bigquery>=0.31.0 in /usr/local/lib/python3.7/dist-packages (from tf-models-official) (1.21.0)\n",
            "Requirement already satisfied: matplotlib in /usr/local/lib/python3.7/dist-packages (from tf-models-official) (3.2.2)\n",
            "Requirement already satisfied: scipy>=0.19.1 in /usr/local/lib/python3.7/dist-packages (from tf-models-official) (1.4.1)\n",
            "Requirement already satisfied: six in /usr/local/lib/python3.7/dist-packages (from tf-models-official) (1.15.0)\n",
            "Requirement already satisfied: Cython in /usr/local/lib/python3.7/dist-packages (from tf-models-official) (0.29.22)\n",
            "Requirement already satisfied: pycocotools in /usr/local/lib/python3.7/dist-packages (from tf-models-official) (2.0.2)\n",
            "Requirement already satisfied: kaggle>=1.3.9 in /usr/local/lib/python3.7/dist-packages (from tf-models-official) (1.5.12)\n",
            "Requirement already satisfied: pyyaml>=5.1 in /usr/local/lib/python3.7/dist-packages (from tf-models-official) (5.4.1)\n",
            "Requirement already satisfied: future in /usr/local/lib/python3.7/dist-packages (from tensorflow-datasets->tf-models-official) (0.16.0)\n",
            "Requirement already satisfied: dm-tree in /usr/local/lib/python3.7/dist-packages (from tensorflow-datasets->tf-models-official) (0.1.6)\n",
            "Requirement already satisfied: termcolor in /usr/local/lib/python3.7/dist-packages (from tensorflow-datasets->tf-models-official) (1.1.0)\n",
            "Requirement already satisfied: promise in /usr/local/lib/python3.7/dist-packages (from tensorflow-datasets->tf-models-official) (2.3)\n",
            "Requirement already satisfied: absl-py in /usr/local/lib/python3.7/dist-packages (from tensorflow-datasets->tf-models-official) (0.12.0)\n",
            "Requirement already satisfied: attrs>=18.1.0 in /usr/local/lib/python3.7/dist-packages (from tensorflow-datasets->tf-models-official) (20.3.0)\n",
            "Requirement already satisfied: requests>=2.19.0 in /usr/local/lib/python3.7/dist-packages (from tensorflow-datasets->tf-models-official) (2.23.0)\n",
            "Requirement already satisfied: importlib-resources; python_version < \"3.9\" in /usr/local/lib/python3.7/dist-packages (from tensorflow-datasets->tf-models-official) (5.1.2)\n",
            "Requirement already satisfied: tensorflow-metadata in /usr/local/lib/python3.7/dist-packages (from tensorflow-datasets->tf-models-official) (0.29.0)\n",
            "Requirement already satisfied: dill in /usr/local/lib/python3.7/dist-packages (from tensorflow-datasets->tf-models-official) (0.3.3)\n",
            "Requirement already satisfied: tqdm in /usr/local/lib/python3.7/dist-packages (from tensorflow-datasets->tf-models-official) (4.41.1)\n",
            "Requirement already satisfied: protobuf>=3.6.1 in /usr/local/lib/python3.7/dist-packages (from tensorflow-datasets->tf-models-official) (3.12.4)\n",
            "Requirement already satisfied: scikit-learn>=0.21.3 in /usr/local/lib/python3.7/dist-packages (from seqeval->tf-models-official) (0.22.2.post1)\n",
            "Requirement already satisfied: python-dateutil>=2.7.3 in /usr/local/lib/python3.7/dist-packages (from pandas>=0.22.0->tf-models-official) (2.8.1)\n",
            "Requirement already satisfied: pytz>=2017.2 in /usr/local/lib/python3.7/dist-packages (from pandas>=0.22.0->tf-models-official) (2018.9)\n",
            "Requirement already satisfied: typeguard>=2.7 in /usr/local/lib/python3.7/dist-packages (from tensorflow-addons->tf-models-official) (2.7.1)\n",
            "Requirement already satisfied: rsa>=3.1.4 in /usr/local/lib/python3.7/dist-packages (from oauth2client->tf-models-official) (4.7.2)\n",
            "Requirement already satisfied: httplib2>=0.9.1 in /usr/local/lib/python3.7/dist-packages (from oauth2client->tf-models-official) (0.17.4)\n",
            "Requirement already satisfied: pyasn1>=0.1.7 in /usr/local/lib/python3.7/dist-packages (from oauth2client->tf-models-official) (0.4.8)\n",
            "Requirement already satisfied: pyasn1-modules>=0.0.5 in /usr/local/lib/python3.7/dist-packages (from oauth2client->tf-models-official) (0.2.8)\n",
            "Requirement already satisfied: google-api-core<2dev,>=1.21.0 in /usr/local/lib/python3.7/dist-packages (from google-api-python-client>=1.6.7->tf-models-official) (1.26.3)\n",
            "Requirement already satisfied: uritemplate<4dev,>=3.0.0 in /usr/local/lib/python3.7/dist-packages (from google-api-python-client>=1.6.7->tf-models-official) (3.0.1)\n",
            "Requirement already satisfied: google-auth-httplib2>=0.0.3 in /usr/local/lib/python3.7/dist-packages (from google-api-python-client>=1.6.7->tf-models-official) (0.0.4)\n",
            "Requirement already satisfied: google-auth>=1.16.0 in /usr/local/lib/python3.7/dist-packages (from google-api-python-client>=1.6.7->tf-models-official) (1.28.1)\n",
            "Requirement already satisfied: opt-einsum~=3.3.0 in /usr/local/lib/python3.7/dist-packages (from tensorflow>=2.4.0->tf-models-official) (3.3.0)\n",
            "Requirement already satisfied: typing-extensions~=3.7.4 in /usr/local/lib/python3.7/dist-packages (from tensorflow>=2.4.0->tf-models-official) (3.7.4.3)\n",
            "Requirement already satisfied: tensorboard~=2.4 in /usr/local/lib/python3.7/dist-packages (from tensorflow>=2.4.0->tf-models-official) (2.4.1)\n",
            "Requirement already satisfied: astunparse~=1.6.3 in /usr/local/lib/python3.7/dist-packages (from tensorflow>=2.4.0->tf-models-official) (1.6.3)\n",
            "Requirement already satisfied: wheel~=0.35 in /usr/local/lib/python3.7/dist-packages (from tensorflow>=2.4.0->tf-models-official) (0.36.2)\n",
            "Requirement already satisfied: wrapt~=1.12.1 in /usr/local/lib/python3.7/dist-packages (from tensorflow>=2.4.0->tf-models-official) (1.12.1)\n",
            "Requirement already satisfied: google-pasta~=0.2 in /usr/local/lib/python3.7/dist-packages (from tensorflow>=2.4.0->tf-models-official) (0.2.0)\n",
            "Requirement already satisfied: gast==0.3.3 in /usr/local/lib/python3.7/dist-packages (from tensorflow>=2.4.0->tf-models-official) (0.3.3)\n",
            "Requirement already satisfied: h5py~=2.10.0 in /usr/local/lib/python3.7/dist-packages (from tensorflow>=2.4.0->tf-models-official) (2.10.0)\n",
            "Requirement already satisfied: flatbuffers~=1.12.0 in /usr/local/lib/python3.7/dist-packages (from tensorflow>=2.4.0->tf-models-official) (1.12)\n",
            "Requirement already satisfied: keras-preprocessing~=1.1.2 in /usr/local/lib/python3.7/dist-packages (from tensorflow>=2.4.0->tf-models-official) (1.1.2)\n",
            "Requirement already satisfied: grpcio~=1.32.0 in /usr/local/lib/python3.7/dist-packages (from tensorflow>=2.4.0->tf-models-official) (1.32.0)\n",
            "Requirement already satisfied: tensorflow-estimator<2.5.0,>=2.4.0 in /usr/local/lib/python3.7/dist-packages (from tensorflow>=2.4.0->tf-models-official) (2.4.0)\n",
            "Requirement already satisfied: google-cloud-core<2.0dev,>=1.0.3 in /usr/local/lib/python3.7/dist-packages (from google-cloud-bigquery>=0.31.0->tf-models-official) (1.0.3)\n",
            "Requirement already satisfied: google-resumable-media!=0.4.0,<0.5.0dev,>=0.3.1 in /usr/local/lib/python3.7/dist-packages (from google-cloud-bigquery>=0.31.0->tf-models-official) (0.4.1)\n",
            "Requirement already satisfied: kiwisolver>=1.0.1 in /usr/local/lib/python3.7/dist-packages (from matplotlib->tf-models-official) (1.3.1)\n",
            "Requirement already satisfied: cycler>=0.10 in /usr/local/lib/python3.7/dist-packages (from matplotlib->tf-models-official) (0.10.0)\n",
            "Requirement already satisfied: pyparsing!=2.0.4,!=2.1.2,!=2.1.6,>=2.0.1 in /usr/local/lib/python3.7/dist-packages (from matplotlib->tf-models-official) (2.4.7)\n",
            "Requirement already satisfied: setuptools>=18.0 in /usr/local/lib/python3.7/dist-packages (from pycocotools->tf-models-official) (56.0.0)\n",
            "Requirement already satisfied: certifi in /usr/local/lib/python3.7/dist-packages (from kaggle>=1.3.9->tf-models-official) (2020.12.5)\n",
            "Requirement already satisfied: urllib3 in /usr/local/lib/python3.7/dist-packages (from kaggle>=1.3.9->tf-models-official) (1.24.3)\n",
            "Requirement already satisfied: python-slugify in /usr/local/lib/python3.7/dist-packages (from kaggle>=1.3.9->tf-models-official) (4.0.1)\n",
            "Requirement already satisfied: idna<3,>=2.5 in /usr/local/lib/python3.7/dist-packages (from requests>=2.19.0->tensorflow-datasets->tf-models-official) (2.10)\n",
            "Requirement already satisfied: chardet<4,>=3.0.2 in /usr/local/lib/python3.7/dist-packages (from requests>=2.19.0->tensorflow-datasets->tf-models-official) (3.0.4)\n",
            "Requirement already satisfied: zipp>=0.4; python_version < \"3.8\" in /usr/local/lib/python3.7/dist-packages (from importlib-resources; python_version < \"3.9\"->tensorflow-datasets->tf-models-official) (3.4.1)\n",
            "Requirement already satisfied: googleapis-common-protos<2,>=1.52.0 in /usr/local/lib/python3.7/dist-packages (from tensorflow-metadata->tensorflow-datasets->tf-models-official) (1.53.0)\n",
            "Requirement already satisfied: joblib>=0.11 in /usr/local/lib/python3.7/dist-packages (from scikit-learn>=0.21.3->seqeval->tf-models-official) (1.0.1)\n",
            "Requirement already satisfied: packaging>=14.3 in /usr/local/lib/python3.7/dist-packages (from google-api-core<2dev,>=1.21.0->google-api-python-client>=1.6.7->tf-models-official) (20.9)\n",
            "Requirement already satisfied: cachetools<5.0,>=2.0.0 in /usr/local/lib/python3.7/dist-packages (from google-auth>=1.16.0->google-api-python-client>=1.6.7->tf-models-official) (4.2.1)\n",
            "Requirement already satisfied: google-auth-oauthlib<0.5,>=0.4.1 in /usr/local/lib/python3.7/dist-packages (from tensorboard~=2.4->tensorflow>=2.4.0->tf-models-official) (0.4.4)\n",
            "Requirement already satisfied: tensorboard-plugin-wit>=1.6.0 in /usr/local/lib/python3.7/dist-packages (from tensorboard~=2.4->tensorflow>=2.4.0->tf-models-official) (1.8.0)\n",
            "Requirement already satisfied: markdown>=2.6.8 in /usr/local/lib/python3.7/dist-packages (from tensorboard~=2.4->tensorflow>=2.4.0->tf-models-official) (3.3.4)\n",
            "Requirement already satisfied: werkzeug>=0.11.15 in /usr/local/lib/python3.7/dist-packages (from tensorboard~=2.4->tensorflow>=2.4.0->tf-models-official) (1.0.1)\n",
            "Requirement already satisfied: text-unidecode>=1.3 in /usr/local/lib/python3.7/dist-packages (from python-slugify->kaggle>=1.3.9->tf-models-official) (1.3)\n",
            "Requirement already satisfied: requests-oauthlib>=0.7.0 in /usr/local/lib/python3.7/dist-packages (from google-auth-oauthlib<0.5,>=0.4.1->tensorboard~=2.4->tensorflow>=2.4.0->tf-models-official) (1.3.0)\n",
            "Requirement already satisfied: importlib-metadata; python_version < \"3.8\" in /usr/local/lib/python3.7/dist-packages (from markdown>=2.6.8->tensorboard~=2.4->tensorflow>=2.4.0->tf-models-official) (3.10.1)\n",
            "Requirement already satisfied: oauthlib>=3.0.0 in /usr/local/lib/python3.7/dist-packages (from requests-oauthlib>=0.7.0->google-auth-oauthlib<0.5,>=0.4.1->tensorboard~=2.4->tensorflow>=2.4.0->tf-models-official) (3.1.0)\n"
          ],
          "name": "stdout"
        }
      ]
    },
    {
      "cell_type": "code",
      "metadata": {
        "colab": {
          "base_uri": "https://localhost:8080/"
        },
        "id": "R_QYcYVrhOB1",
        "outputId": "1ec39765-9264-40b6-dad6-a4c43a2de140"
      },
      "source": [
        "from google.colab import drive\n",
        "drive.mount('/content/drive')"
      ],
      "execution_count": null,
      "outputs": [
        {
          "output_type": "stream",
          "text": [
            "Mounted at /content/drive\n"
          ],
          "name": "stdout"
        }
      ]
    },
    {
      "cell_type": "code",
      "metadata": {
        "colab": {
          "base_uri": "https://localhost:8080/"
        },
        "id": "T6cfaKgXhIeo",
        "outputId": "a1664d8e-741a-4c0b-eda8-e1107c944a26"
      },
      "source": [
        "tf.config.experimental.list_physical_devices()"
      ],
      "execution_count": null,
      "outputs": [
        {
          "output_type": "execute_result",
          "data": {
            "text/plain": [
              "[PhysicalDevice(name='/physical_device:CPU:0', device_type='CPU')]"
            ]
          },
          "metadata": {
            "tags": []
          },
          "execution_count": 6
        }
      ]
    },
    {
      "cell_type": "code",
      "metadata": {
        "id": "-LJNO9vwhIep"
      },
      "source": [
        "gpus = tf.config.experimental.list_physical_devices(device_type='GPU')\n",
        "tf.config.experimental.set_visible_devices(devices=gpus[0], device_type='GPU')\n",
        "tf.config.experimental.set_memory_growth(device=gpus[0], enable=True)"
      ],
      "execution_count": null,
      "outputs": []
    },
    {
      "cell_type": "code",
      "metadata": {
        "id": "MeqKecl6hIep",
        "outputId": "e591c4aa-d26a-4416-823a-a3a5b8830297"
      },
      "source": [
        "print(os.listdir(\"./datasets\"))\n",
        "print(os.listdir(\"./datasets/MSRP\"))"
      ],
      "execution_count": null,
      "outputs": [
        {
          "output_type": "stream",
          "text": [
            "['MSRP', 'SICK', 'QQP']\n",
            "['msrp_test.txt', 'msrp_train.txt', 'msrptrain.csv', 'msrp.csv', 'msrptest.csv', 'MSRParaphraseCorpus.msi']\n"
          ],
          "name": "stdout"
        }
      ]
    },
    {
      "cell_type": "code",
      "metadata": {
        "id": "DugMnwdWhIep"
      },
      "source": [
        "df_qqp = pd.read_csv('/content/drive/MyDrive/PD/msrp.csv')"
      ],
      "execution_count": null,
      "outputs": []
    },
    {
      "cell_type": "code",
      "metadata": {
        "colab": {
          "base_uri": "https://localhost:8080/",
          "height": 538
        },
        "id": "WyiTdMzqhIeq",
        "outputId": "cdae12ed-378f-46f8-afe6-6e269e163c1a"
      },
      "source": [
        "df_qqp"
      ],
      "execution_count": null,
      "outputs": [
        {
          "output_type": "execute_result",
          "data": {
            "text/html": [
              "<div>\n",
              "<style scoped>\n",
              "    .dataframe tbody tr th:only-of-type {\n",
              "        vertical-align: middle;\n",
              "    }\n",
              "\n",
              "    .dataframe tbody tr th {\n",
              "        vertical-align: top;\n",
              "    }\n",
              "\n",
              "    .dataframe thead th {\n",
              "        text-align: right;\n",
              "    }\n",
              "</style>\n",
              "<table border=\"1\" class=\"dataframe\">\n",
              "  <thead>\n",
              "    <tr style=\"text-align: right;\">\n",
              "      <th></th>\n",
              "      <th>id</th>\n",
              "      <th>qid1</th>\n",
              "      <th>qid2</th>\n",
              "      <th>question1</th>\n",
              "      <th>question2</th>\n",
              "      <th>is_duplicate</th>\n",
              "    </tr>\n",
              "  </thead>\n",
              "  <tbody>\n",
              "    <tr>\n",
              "      <th>0</th>\n",
              "      <td>0</td>\n",
              "      <td>702876</td>\n",
              "      <td>702977</td>\n",
              "      <td>Amrozi accused his brother , whom he called \" ...</td>\n",
              "      <td>Referring to him as only \" the witness \" , Amr...</td>\n",
              "      <td>1</td>\n",
              "    </tr>\n",
              "    <tr>\n",
              "      <th>1</th>\n",
              "      <td>1</td>\n",
              "      <td>2108705</td>\n",
              "      <td>2108831</td>\n",
              "      <td>Yucaipa owned Dominick 's before selling the c...</td>\n",
              "      <td>Yucaipa bought Dominick 's in 1995 for $ 693 m...</td>\n",
              "      <td>0</td>\n",
              "    </tr>\n",
              "    <tr>\n",
              "      <th>2</th>\n",
              "      <td>2</td>\n",
              "      <td>1330381</td>\n",
              "      <td>1330521</td>\n",
              "      <td>They had published an advertisement on the Int...</td>\n",
              "      <td>On June 10 , the ship 's owners had published ...</td>\n",
              "      <td>1</td>\n",
              "    </tr>\n",
              "    <tr>\n",
              "      <th>3</th>\n",
              "      <td>3</td>\n",
              "      <td>3344667</td>\n",
              "      <td>3344648</td>\n",
              "      <td>Around 0335 GMT , Tab shares were up 19 cents ...</td>\n",
              "      <td>Tab shares jumped 20 cents , or 4.6 % , to set...</td>\n",
              "      <td>0</td>\n",
              "    </tr>\n",
              "    <tr>\n",
              "      <th>4</th>\n",
              "      <td>4</td>\n",
              "      <td>1236820</td>\n",
              "      <td>1236712</td>\n",
              "      <td>The stock rose $ 2.11 , or about 11 percent , ...</td>\n",
              "      <td>PG &amp; E Corp. shares jumped $ 1.63 or 8 percent...</td>\n",
              "      <td>1</td>\n",
              "    </tr>\n",
              "    <tr>\n",
              "      <th>...</th>\n",
              "      <td>...</td>\n",
              "      <td>...</td>\n",
              "      <td>...</td>\n",
              "      <td>...</td>\n",
              "      <td>...</td>\n",
              "      <td>...</td>\n",
              "    </tr>\n",
              "    <tr>\n",
              "      <th>5796</th>\n",
              "      <td>5796</td>\n",
              "      <td>2685984</td>\n",
              "      <td>2686122</td>\n",
              "      <td>After Hughes refused to rehire Hernandez , he ...</td>\n",
              "      <td>Hernandez filed an Equal Employment Opportunit...</td>\n",
              "      <td>0</td>\n",
              "    </tr>\n",
              "    <tr>\n",
              "      <th>5797</th>\n",
              "      <td>5797</td>\n",
              "      <td>339215</td>\n",
              "      <td>339172</td>\n",
              "      <td>There are 103 Democrats in the Assembly and 47...</td>\n",
              "      <td>Democrats dominate the Assembly while Republic...</td>\n",
              "      <td>0</td>\n",
              "    </tr>\n",
              "    <tr>\n",
              "      <th>5798</th>\n",
              "      <td>5798</td>\n",
              "      <td>2996850</td>\n",
              "      <td>2996734</td>\n",
              "      <td>Bethany Hamilton remained in stable condition ...</td>\n",
              "      <td>Bethany , who remained in stable condition aft...</td>\n",
              "      <td>0</td>\n",
              "    </tr>\n",
              "    <tr>\n",
              "      <th>5799</th>\n",
              "      <td>5799</td>\n",
              "      <td>2095781</td>\n",
              "      <td>2095812</td>\n",
              "      <td>Last week the power station ’ s US owners , AE...</td>\n",
              "      <td>The news comes after Drax 's American owner , ...</td>\n",
              "      <td>1</td>\n",
              "    </tr>\n",
              "    <tr>\n",
              "      <th>5800</th>\n",
              "      <td>5800</td>\n",
              "      <td>2136244</td>\n",
              "      <td>2136052</td>\n",
              "      <td>Sobig.F spreads when unsuspecting computer use...</td>\n",
              "      <td>The virus spreads when unsuspecting computer u...</td>\n",
              "      <td>1</td>\n",
              "    </tr>\n",
              "  </tbody>\n",
              "</table>\n",
              "<p>5801 rows × 6 columns</p>\n",
              "</div>"
            ],
            "text/plain": [
              "        id  ...  is_duplicate\n",
              "0        0  ...             1\n",
              "1        1  ...             0\n",
              "2        2  ...             1\n",
              "3        3  ...             0\n",
              "4        4  ...             1\n",
              "...    ...  ...           ...\n",
              "5796  5796  ...             0\n",
              "5797  5797  ...             0\n",
              "5798  5798  ...             0\n",
              "5799  5799  ...             1\n",
              "5800  5800  ...             1\n",
              "\n",
              "[5801 rows x 6 columns]"
            ]
          },
          "metadata": {
            "tags": []
          },
          "execution_count": 77
        }
      ]
    },
    {
      "cell_type": "code",
      "metadata": {
        "colab": {
          "base_uri": "https://localhost:8080/"
        },
        "id": "iKC8HSqXJqFX",
        "outputId": "cbc0c839-9c6b-47c1-c5ef-203905262a3c"
      },
      "source": [
        "print(type(df_qqp['question1']))\n"
      ],
      "execution_count": null,
      "outputs": [
        {
          "output_type": "stream",
          "text": [
            "<class 'pandas.core.series.Series'>\n"
          ],
          "name": "stdout"
        }
      ]
    },
    {
      "cell_type": "code",
      "metadata": {
        "colab": {
          "base_uri": "https://localhost:8080/"
        },
        "id": "Wt4cqOyHhIeq",
        "outputId": "a67b28be-e0d5-490f-d564-081f7092da32"
      },
      "source": [
        "nltk.download('stopwords')\n",
        "stops = set(stopwords.words('english'))\n",
        "\n",
        "def text_to_word_list(text, remove_stop_words=False):\n",
        "    ''' Pre process and convert texts to a list of words '''\n",
        "    text = str(text)\n",
        "    text = text.lower()\n",
        "\n",
        "    # Clean the text\n",
        "    text = re.sub(r\"[^A-Za-z0-9^,!.\\/'+-=]\", \" \", text)\n",
        "    text = re.sub(r\"what's\", \"what is \", text)\n",
        "    text = re.sub(r\"\\'s\", \" \", text)\n",
        "    text = re.sub(r\"\\'ve\", \" have \", text)\n",
        "    text = re.sub(r\"can't\", \"cannot \", text)\n",
        "    text = re.sub(r\"n't\", \" not \", text)\n",
        "    text = re.sub(r\"i'm\", \"i am \", text)\n",
        "    text = re.sub(r\"\\'re\", \" are \", text)\n",
        "    text = re.sub(r\"\\'d\", \" would \", text)\n",
        "    text = re.sub(r\"\\'ll\", \" will \", text)\n",
        "    text = re.sub(r\",\", \" \", text)\n",
        "    text = re.sub(r\"\\.\", \" \", text)\n",
        "    text = re.sub(r\"!\", \" ! \", text)\n",
        "    text = re.sub(r\"\\/\", \" \", text)\n",
        "    text = re.sub(r\"\\^\", \" ^ \", text)\n",
        "    text = re.sub(r\"\\+\", \" + \", text)\n",
        "    text = re.sub(r\"\\-\", \" - \", text)\n",
        "    text = re.sub(r\"\\=\", \" = \", text)\n",
        "    text = re.sub(r\"'\", \" \", text)\n",
        "    text = re.sub(r\"(\\d+)(k)\", r\"\\g<1>000\", text)\n",
        "    text = re.sub(r\":\", \" : \", text)\n",
        "    text = re.sub(r\" e g \", \" eg \", text)\n",
        "    text = re.sub(r\"\\0s\", \"0\", text)\n",
        "    text = re.sub(r\"e - mail\", \"email\", text)\n",
        "    text = re.sub(r\"j k\", \"jk\", text)\n",
        "    text = re.sub(r\"\\s{2,}\", \" \", text)\n",
        "\n",
        "    text = text.split()\n",
        "    \n",
        "    if remove_stop_words:\n",
        "        text = [wd for wd in text if wd not in stops]\n",
        "\n",
        "    return text"
      ],
      "execution_count": null,
      "outputs": [
        {
          "output_type": "stream",
          "text": [
            "[nltk_data] Downloading package stopwords to /root/nltk_data...\n",
            "[nltk_data]   Unzipping corpora/stopwords.zip.\n"
          ],
          "name": "stdout"
        }
      ]
    },
    {
      "cell_type": "code",
      "metadata": {
        "colab": {
          "base_uri": "https://localhost:8080/"
        },
        "id": "VOdvSHnshIer",
        "outputId": "e5584810-8849-4313-d0f8-c7bfbcf6c8fa"
      },
      "source": [
        "text_to_word_list('step by step')"
      ],
      "execution_count": null,
      "outputs": [
        {
          "output_type": "execute_result",
          "data": {
            "text/plain": [
              "['step', 'by', 'step']"
            ]
          },
          "metadata": {
            "tags": []
          },
          "execution_count": 12
        }
      ]
    },
    {
      "cell_type": "code",
      "metadata": {
        "colab": {
          "base_uri": "https://localhost:8080/",
          "height": 228
        },
        "id": "sewmWWs6hIer",
        "outputId": "86972fca-e88d-4c53-971d-f0d9cc9e6268"
      },
      "source": [
        "s1 = {\"Harry Potter defeated Voldemort\"}\n",
        "s2 = [\"Voldemort was defeated by Harry Potter\"]\n",
        "\n",
        "pdd['question1'] = s1.map(lambda x: text_to_word_list(x))\n",
        "pdd['question2'] = s2.map(lambda x: text_to_word_list(x))\n",
        "pdd['len_q1'] = s1.map(lambda x: len(x))\n",
        "pdd['len_q2'] = s2.map(lambda x: len(x))"
      ],
      "execution_count": null,
      "outputs": [
        {
          "output_type": "error",
          "ename": "AttributeError",
          "evalue": "ignored",
          "traceback": [
            "\u001b[0;31m---------------------------------------------------------------------------\u001b[0m",
            "\u001b[0;31mAttributeError\u001b[0m                            Traceback (most recent call last)",
            "\u001b[0;32m<ipython-input-75-84ea3e9f68aa>\u001b[0m in \u001b[0;36m<module>\u001b[0;34m()\u001b[0m\n\u001b[1;32m      2\u001b[0m \u001b[0ms2\u001b[0m \u001b[0;34m=\u001b[0m \u001b[0;34m[\u001b[0m\u001b[0;34m\"Voldemort was defeated by Harry Potter\"\u001b[0m\u001b[0;34m]\u001b[0m\u001b[0;34m\u001b[0m\u001b[0;34m\u001b[0m\u001b[0m\n\u001b[1;32m      3\u001b[0m \u001b[0;34m\u001b[0m\u001b[0m\n\u001b[0;32m----> 4\u001b[0;31m \u001b[0mpdd\u001b[0m\u001b[0;34m[\u001b[0m\u001b[0;34m'question1'\u001b[0m\u001b[0;34m]\u001b[0m \u001b[0;34m=\u001b[0m \u001b[0ms1\u001b[0m\u001b[0;34m.\u001b[0m\u001b[0mmap\u001b[0m\u001b[0;34m(\u001b[0m\u001b[0;32mlambda\u001b[0m \u001b[0mx\u001b[0m\u001b[0;34m:\u001b[0m \u001b[0mtext_to_word_list\u001b[0m\u001b[0;34m(\u001b[0m\u001b[0mx\u001b[0m\u001b[0;34m)\u001b[0m\u001b[0;34m)\u001b[0m\u001b[0;34m\u001b[0m\u001b[0;34m\u001b[0m\u001b[0m\n\u001b[0m\u001b[1;32m      5\u001b[0m \u001b[0mpdd\u001b[0m\u001b[0;34m[\u001b[0m\u001b[0;34m'question2'\u001b[0m\u001b[0;34m]\u001b[0m \u001b[0;34m=\u001b[0m \u001b[0ms2\u001b[0m\u001b[0;34m.\u001b[0m\u001b[0mmap\u001b[0m\u001b[0;34m(\u001b[0m\u001b[0;32mlambda\u001b[0m \u001b[0mx\u001b[0m\u001b[0;34m:\u001b[0m \u001b[0mtext_to_word_list\u001b[0m\u001b[0;34m(\u001b[0m\u001b[0mx\u001b[0m\u001b[0;34m)\u001b[0m\u001b[0;34m)\u001b[0m\u001b[0;34m\u001b[0m\u001b[0;34m\u001b[0m\u001b[0m\n\u001b[1;32m      6\u001b[0m \u001b[0mpdd\u001b[0m\u001b[0;34m[\u001b[0m\u001b[0;34m'len_q1'\u001b[0m\u001b[0;34m]\u001b[0m \u001b[0;34m=\u001b[0m \u001b[0ms1\u001b[0m\u001b[0;34m.\u001b[0m\u001b[0mmap\u001b[0m\u001b[0;34m(\u001b[0m\u001b[0;32mlambda\u001b[0m \u001b[0mx\u001b[0m\u001b[0;34m:\u001b[0m \u001b[0mlen\u001b[0m\u001b[0;34m(\u001b[0m\u001b[0mx\u001b[0m\u001b[0;34m)\u001b[0m\u001b[0;34m)\u001b[0m\u001b[0;34m\u001b[0m\u001b[0;34m\u001b[0m\u001b[0m\n",
            "\u001b[0;31mAttributeError\u001b[0m: 'set' object has no attribute 'map'"
          ]
        }
      ]
    },
    {
      "cell_type": "code",
      "metadata": {
        "colab": {
          "base_uri": "https://localhost:8080/"
        },
        "id": "hyO1ig0lIoSA",
        "outputId": "736c9f1c-fc21-4dee-a63c-a0f7ac7d2b73"
      },
      "source": [
        "print(df_qqp['question1'])\n",
        "df_qqp['question1'] = df_qqp['question1'].map(lambda x: text_to_word_list(x))\n",
        "df_qqp['question2'] = df_qqp['question2'].map(lambda x: text_to_word_list(x))\n",
        "df_qqp['len_q1'] = df_qqp['question1'].map(lambda x: len(x))\n",
        "df_qqp['len_q2'] = df_qqp['question2'].map(lambda x: len(x))"
      ],
      "execution_count": null,
      "outputs": [
        {
          "output_type": "stream",
          "text": [
            "0       [amrozi, accused, his, brother, whom, he, call...\n",
            "1       [yucaipa, owned, dominick, before, selling, th...\n",
            "2       [they, had, published, an, advertisement, on, ...\n",
            "3       [around, 0335, gmt, tab, shares, were, up, 19,...\n",
            "4       [the, stock, rose, 2, 11, or, about, 11, perce...\n",
            "                              ...                        \n",
            "5796    [after, hughes, refused, to, rehire, hernandez...\n",
            "5797    [there, are, 103, democrats, in, the, assembly...\n",
            "5798    [bethany, hamilton, remained, in, stable, cond...\n",
            "5799    [last, week, the, power, station, s, us, owner...\n",
            "5800    [sobig, f, spreads, when, unsuspecting, comput...\n",
            "Name: question1, Length: 5801, dtype: object\n"
          ],
          "name": "stdout"
        }
      ]
    },
    {
      "cell_type": "code",
      "metadata": {
        "colab": {
          "base_uri": "https://localhost:8080/",
          "height": 280
        },
        "id": "czFBsJNEhIer",
        "outputId": "9b603356-59c1-4bbc-f129-723acc25e8ee"
      },
      "source": [
        "df_qqp.head()"
      ],
      "execution_count": null,
      "outputs": [
        {
          "output_type": "execute_result",
          "data": {
            "text/html": [
              "<div>\n",
              "<style scoped>\n",
              "    .dataframe tbody tr th:only-of-type {\n",
              "        vertical-align: middle;\n",
              "    }\n",
              "\n",
              "    .dataframe tbody tr th {\n",
              "        vertical-align: top;\n",
              "    }\n",
              "\n",
              "    .dataframe thead th {\n",
              "        text-align: right;\n",
              "    }\n",
              "</style>\n",
              "<table border=\"1\" class=\"dataframe\">\n",
              "  <thead>\n",
              "    <tr style=\"text-align: right;\">\n",
              "      <th></th>\n",
              "      <th>id</th>\n",
              "      <th>qid1</th>\n",
              "      <th>qid2</th>\n",
              "      <th>question1</th>\n",
              "      <th>question2</th>\n",
              "      <th>is_duplicate</th>\n",
              "      <th>len_q1</th>\n",
              "      <th>len_q2</th>\n",
              "    </tr>\n",
              "  </thead>\n",
              "  <tbody>\n",
              "    <tr>\n",
              "      <th>0</th>\n",
              "      <td>0</td>\n",
              "      <td>702876</td>\n",
              "      <td>702977</td>\n",
              "      <td>[amrozi, accused, his, brother, whom, he, call...</td>\n",
              "      <td>[referring, to, him, as, only, the, witness, a...</td>\n",
              "      <td>1</td>\n",
              "      <td>14</td>\n",
              "      <td>16</td>\n",
              "    </tr>\n",
              "    <tr>\n",
              "      <th>1</th>\n",
              "      <td>1</td>\n",
              "      <td>2108705</td>\n",
              "      <td>2108831</td>\n",
              "      <td>[yucaipa, owned, dominick, before, selling, th...</td>\n",
              "      <td>[yucaipa, bought, dominick, in, 1995, for, 693...</td>\n",
              "      <td>0</td>\n",
              "      <td>15</td>\n",
              "      <td>19</td>\n",
              "    </tr>\n",
              "    <tr>\n",
              "      <th>2</th>\n",
              "      <td>2</td>\n",
              "      <td>1330381</td>\n",
              "      <td>1330521</td>\n",
              "      <td>[they, had, published, an, advertisement, on, ...</td>\n",
              "      <td>[on, june, 10, the, ship, owners, had, publish...</td>\n",
              "      <td>1</td>\n",
              "      <td>18</td>\n",
              "      <td>18</td>\n",
              "    </tr>\n",
              "    <tr>\n",
              "      <th>3</th>\n",
              "      <td>3</td>\n",
              "      <td>3344667</td>\n",
              "      <td>3344648</td>\n",
              "      <td>[around, 0335, gmt, tab, shares, were, up, 19,...</td>\n",
              "      <td>[tab, shares, jumped, 20, cents, or, 4, 6, to,...</td>\n",
              "      <td>0</td>\n",
              "      <td>26</td>\n",
              "      <td>18</td>\n",
              "    </tr>\n",
              "    <tr>\n",
              "      <th>4</th>\n",
              "      <td>4</td>\n",
              "      <td>1236820</td>\n",
              "      <td>1236712</td>\n",
              "      <td>[the, stock, rose, 2, 11, or, about, 11, perce...</td>\n",
              "      <td>[pg, e, corp, shares, jumped, 1, 63, or, 8, pe...</td>\n",
              "      <td>1</td>\n",
              "      <td>21</td>\n",
              "      <td>21</td>\n",
              "    </tr>\n",
              "  </tbody>\n",
              "</table>\n",
              "</div>"
            ],
            "text/plain": [
              "   id     qid1     qid2  ... is_duplicate len_q1  len_q2\n",
              "0   0   702876   702977  ...            1     14      16\n",
              "1   1  2108705  2108831  ...            0     15      19\n",
              "2   2  1330381  1330521  ...            1     18      18\n",
              "3   3  3344667  3344648  ...            0     26      18\n",
              "4   4  1236820  1236712  ...            1     21      21\n",
              "\n",
              "[5 rows x 8 columns]"
            ]
          },
          "metadata": {
            "tags": []
          },
          "execution_count": 14
        }
      ]
    },
    {
      "cell_type": "code",
      "metadata": {
        "colab": {
          "base_uri": "https://localhost:8080/",
          "height": 286
        },
        "id": "rTpiDKXEhIes",
        "outputId": "8bb6022c-3f15-44ee-b5af-61c33cf43399"
      },
      "source": [
        "df_qqp.describe()"
      ],
      "execution_count": null,
      "outputs": [
        {
          "output_type": "execute_result",
          "data": {
            "text/html": [
              "<div>\n",
              "<style scoped>\n",
              "    .dataframe tbody tr th:only-of-type {\n",
              "        vertical-align: middle;\n",
              "    }\n",
              "\n",
              "    .dataframe tbody tr th {\n",
              "        vertical-align: top;\n",
              "    }\n",
              "\n",
              "    .dataframe thead th {\n",
              "        text-align: right;\n",
              "    }\n",
              "</style>\n",
              "<table border=\"1\" class=\"dataframe\">\n",
              "  <thead>\n",
              "    <tr style=\"text-align: right;\">\n",
              "      <th></th>\n",
              "      <th>id</th>\n",
              "      <th>qid1</th>\n",
              "      <th>qid2</th>\n",
              "      <th>is_duplicate</th>\n",
              "      <th>len_q1</th>\n",
              "      <th>len_q2</th>\n",
              "    </tr>\n",
              "  </thead>\n",
              "  <tbody>\n",
              "    <tr>\n",
              "      <th>count</th>\n",
              "      <td>5801.000000</td>\n",
              "      <td>5.801000e+03</td>\n",
              "      <td>5.801000e+03</td>\n",
              "      <td>5801.000000</td>\n",
              "      <td>5801.000000</td>\n",
              "      <td>5801.000000</td>\n",
              "    </tr>\n",
              "    <tr>\n",
              "      <th>mean</th>\n",
              "      <td>2900.000000</td>\n",
              "      <td>1.684367e+06</td>\n",
              "      <td>1.684367e+06</td>\n",
              "      <td>0.672298</td>\n",
              "      <td>19.889502</td>\n",
              "      <td>19.839683</td>\n",
              "    </tr>\n",
              "    <tr>\n",
              "      <th>std</th>\n",
              "      <td>1674.748787</td>\n",
              "      <td>9.916988e+05</td>\n",
              "      <td>9.917017e+05</td>\n",
              "      <td>0.469416</td>\n",
              "      <td>5.457898</td>\n",
              "      <td>5.471728</td>\n",
              "    </tr>\n",
              "    <tr>\n",
              "      <th>min</th>\n",
              "      <td>0.000000</td>\n",
              "      <td>2.670000e+02</td>\n",
              "      <td>1.400000e+02</td>\n",
              "      <td>0.000000</td>\n",
              "      <td>6.000000</td>\n",
              "      <td>5.000000</td>\n",
              "    </tr>\n",
              "    <tr>\n",
              "      <th>25%</th>\n",
              "      <td>1450.000000</td>\n",
              "      <td>8.068650e+05</td>\n",
              "      <td>8.068650e+05</td>\n",
              "      <td>0.000000</td>\n",
              "      <td>16.000000</td>\n",
              "      <td>16.000000</td>\n",
              "    </tr>\n",
              "    <tr>\n",
              "      <th>50%</th>\n",
              "      <td>2900.000000</td>\n",
              "      <td>1.691429e+06</td>\n",
              "      <td>1.691465e+06</td>\n",
              "      <td>1.000000</td>\n",
              "      <td>20.000000</td>\n",
              "      <td>20.000000</td>\n",
              "    </tr>\n",
              "    <tr>\n",
              "      <th>75%</th>\n",
              "      <td>4350.000000</td>\n",
              "      <td>2.537987e+06</td>\n",
              "      <td>2.538021e+06</td>\n",
              "      <td>1.000000</td>\n",
              "      <td>24.000000</td>\n",
              "      <td>24.000000</td>\n",
              "    </tr>\n",
              "    <tr>\n",
              "      <th>max</th>\n",
              "      <td>5800.000000</td>\n",
              "      <td>3.464314e+06</td>\n",
              "      <td>3.464302e+06</td>\n",
              "      <td>1.000000</td>\n",
              "      <td>39.000000</td>\n",
              "      <td>39.000000</td>\n",
              "    </tr>\n",
              "  </tbody>\n",
              "</table>\n",
              "</div>"
            ],
            "text/plain": [
              "                id          qid1  ...       len_q1       len_q2\n",
              "count  5801.000000  5.801000e+03  ...  5801.000000  5801.000000\n",
              "mean   2900.000000  1.684367e+06  ...    19.889502    19.839683\n",
              "std    1674.748787  9.916988e+05  ...     5.457898     5.471728\n",
              "min       0.000000  2.670000e+02  ...     6.000000     5.000000\n",
              "25%    1450.000000  8.068650e+05  ...    16.000000    16.000000\n",
              "50%    2900.000000  1.691429e+06  ...    20.000000    20.000000\n",
              "75%    4350.000000  2.537987e+06  ...    24.000000    24.000000\n",
              "max    5800.000000  3.464314e+06  ...    39.000000    39.000000\n",
              "\n",
              "[8 rows x 6 columns]"
            ]
          },
          "metadata": {
            "tags": []
          },
          "execution_count": 15
        }
      ]
    },
    {
      "cell_type": "code",
      "metadata": {
        "id": "k_v--tPfhIes"
      },
      "source": [
        "sentence_len = 40\n",
        "max_sentence_length = sentence_len\n",
        "embeddings_len = 300\n",
        "max_unique_words = 20000"
      ],
      "execution_count": null,
      "outputs": []
    },
    {
      "cell_type": "code",
      "metadata": {
        "colab": {
          "base_uri": "https://localhost:8080/",
          "height": 572
        },
        "id": "Lk5kYaQbhIes",
        "outputId": "637b3bbe-5685-4a13-ea98-2601daa65186"
      },
      "source": [
        "temp = df_qqp[(df_qqp['len_q1']<sentence_len) & (df_qqp['len_q2']<sentence_len)]\n",
        "temp"
      ],
      "execution_count": null,
      "outputs": [
        {
          "output_type": "execute_result",
          "data": {
            "text/html": [
              "<div>\n",
              "<style scoped>\n",
              "    .dataframe tbody tr th:only-of-type {\n",
              "        vertical-align: middle;\n",
              "    }\n",
              "\n",
              "    .dataframe tbody tr th {\n",
              "        vertical-align: top;\n",
              "    }\n",
              "\n",
              "    .dataframe thead th {\n",
              "        text-align: right;\n",
              "    }\n",
              "</style>\n",
              "<table border=\"1\" class=\"dataframe\">\n",
              "  <thead>\n",
              "    <tr style=\"text-align: right;\">\n",
              "      <th></th>\n",
              "      <th>id</th>\n",
              "      <th>qid1</th>\n",
              "      <th>qid2</th>\n",
              "      <th>question1</th>\n",
              "      <th>question2</th>\n",
              "      <th>is_duplicate</th>\n",
              "      <th>len_q1</th>\n",
              "      <th>len_q2</th>\n",
              "    </tr>\n",
              "  </thead>\n",
              "  <tbody>\n",
              "    <tr>\n",
              "      <th>0</th>\n",
              "      <td>0</td>\n",
              "      <td>702876</td>\n",
              "      <td>702977</td>\n",
              "      <td>[amrozi, accused, his, brother, whom, he, call...</td>\n",
              "      <td>[referring, to, him, as, only, the, witness, a...</td>\n",
              "      <td>1</td>\n",
              "      <td>14</td>\n",
              "      <td>16</td>\n",
              "    </tr>\n",
              "    <tr>\n",
              "      <th>1</th>\n",
              "      <td>1</td>\n",
              "      <td>2108705</td>\n",
              "      <td>2108831</td>\n",
              "      <td>[yucaipa, owned, dominick, before, selling, th...</td>\n",
              "      <td>[yucaipa, bought, dominick, in, 1995, for, 693...</td>\n",
              "      <td>0</td>\n",
              "      <td>15</td>\n",
              "      <td>19</td>\n",
              "    </tr>\n",
              "    <tr>\n",
              "      <th>2</th>\n",
              "      <td>2</td>\n",
              "      <td>1330381</td>\n",
              "      <td>1330521</td>\n",
              "      <td>[they, had, published, an, advertisement, on, ...</td>\n",
              "      <td>[on, june, 10, the, ship, owners, had, publish...</td>\n",
              "      <td>1</td>\n",
              "      <td>18</td>\n",
              "      <td>18</td>\n",
              "    </tr>\n",
              "    <tr>\n",
              "      <th>3</th>\n",
              "      <td>3</td>\n",
              "      <td>3344667</td>\n",
              "      <td>3344648</td>\n",
              "      <td>[around, 0335, gmt, tab, shares, were, up, 19,...</td>\n",
              "      <td>[tab, shares, jumped, 20, cents, or, 4, 6, to,...</td>\n",
              "      <td>0</td>\n",
              "      <td>26</td>\n",
              "      <td>18</td>\n",
              "    </tr>\n",
              "    <tr>\n",
              "      <th>4</th>\n",
              "      <td>4</td>\n",
              "      <td>1236820</td>\n",
              "      <td>1236712</td>\n",
              "      <td>[the, stock, rose, 2, 11, or, about, 11, perce...</td>\n",
              "      <td>[pg, e, corp, shares, jumped, 1, 63, or, 8, pe...</td>\n",
              "      <td>1</td>\n",
              "      <td>21</td>\n",
              "      <td>21</td>\n",
              "    </tr>\n",
              "    <tr>\n",
              "      <th>...</th>\n",
              "      <td>...</td>\n",
              "      <td>...</td>\n",
              "      <td>...</td>\n",
              "      <td>...</td>\n",
              "      <td>...</td>\n",
              "      <td>...</td>\n",
              "      <td>...</td>\n",
              "      <td>...</td>\n",
              "    </tr>\n",
              "    <tr>\n",
              "      <th>5796</th>\n",
              "      <td>5796</td>\n",
              "      <td>2685984</td>\n",
              "      <td>2686122</td>\n",
              "      <td>[after, hughes, refused, to, rehire, hernandez...</td>\n",
              "      <td>[hernandez, filed, an, equal, employment, oppo...</td>\n",
              "      <td>0</td>\n",
              "      <td>14</td>\n",
              "      <td>10</td>\n",
              "    </tr>\n",
              "    <tr>\n",
              "      <th>5797</th>\n",
              "      <td>5797</td>\n",
              "      <td>339215</td>\n",
              "      <td>339172</td>\n",
              "      <td>[there, are, 103, democrats, in, the, assembly...</td>\n",
              "      <td>[democrats, dominate, the, assembly, while, re...</td>\n",
              "      <td>0</td>\n",
              "      <td>10</td>\n",
              "      <td>9</td>\n",
              "    </tr>\n",
              "    <tr>\n",
              "      <th>5798</th>\n",
              "      <td>5798</td>\n",
              "      <td>2996850</td>\n",
              "      <td>2996734</td>\n",
              "      <td>[bethany, hamilton, remained, in, stable, cond...</td>\n",
              "      <td>[bethany, who, remained, in, stable, condition...</td>\n",
              "      <td>0</td>\n",
              "      <td>12</td>\n",
              "      <td>16</td>\n",
              "    </tr>\n",
              "    <tr>\n",
              "      <th>5799</th>\n",
              "      <td>5799</td>\n",
              "      <td>2095781</td>\n",
              "      <td>2095812</td>\n",
              "      <td>[last, week, the, power, station, s, us, owner...</td>\n",
              "      <td>[the, news, comes, after, drax, american, owne...</td>\n",
              "      <td>1</td>\n",
              "      <td>26</td>\n",
              "      <td>28</td>\n",
              "    </tr>\n",
              "    <tr>\n",
              "      <th>5800</th>\n",
              "      <td>5800</td>\n",
              "      <td>2136244</td>\n",
              "      <td>2136052</td>\n",
              "      <td>[sobig, f, spreads, when, unsuspecting, comput...</td>\n",
              "      <td>[the, virus, spreads, when, unsuspecting, comp...</td>\n",
              "      <td>1</td>\n",
              "      <td>29</td>\n",
              "      <td>24</td>\n",
              "    </tr>\n",
              "  </tbody>\n",
              "</table>\n",
              "<p>5801 rows × 8 columns</p>\n",
              "</div>"
            ],
            "text/plain": [
              "        id     qid1     qid2  ... is_duplicate len_q1  len_q2\n",
              "0        0   702876   702977  ...            1     14      16\n",
              "1        1  2108705  2108831  ...            0     15      19\n",
              "2        2  1330381  1330521  ...            1     18      18\n",
              "3        3  3344667  3344648  ...            0     26      18\n",
              "4        4  1236820  1236712  ...            1     21      21\n",
              "...    ...      ...      ...  ...          ...    ...     ...\n",
              "5796  5796  2685984  2686122  ...            0     14      10\n",
              "5797  5797   339215   339172  ...            0     10       9\n",
              "5798  5798  2996850  2996734  ...            0     12      16\n",
              "5799  5799  2095781  2095812  ...            1     26      28\n",
              "5800  5800  2136244  2136052  ...            1     29      24\n",
              "\n",
              "[5801 rows x 8 columns]"
            ]
          },
          "metadata": {
            "tags": []
          },
          "execution_count": 17
        }
      ]
    },
    {
      "cell_type": "code",
      "metadata": {
        "id": "aXs8F4c9hIes"
      },
      "source": [
        "all_questions = list(temp['question1'].values) + list(temp['question2'].values)"
      ],
      "execution_count": null,
      "outputs": []
    },
    {
      "cell_type": "code",
      "metadata": {
        "colab": {
          "base_uri": "https://localhost:8080/"
        },
        "id": "uhlSjlwKhIet",
        "outputId": "0b5a0193-fc40-480f-cf64-97508d3fbb30"
      },
      "source": [
        "# glove_embeddings = {}\n",
        "# with open('8/model.txt') as f:\n",
        "#     for line in f:\n",
        "#         word, coefs = line.split(maxsplit=1)\n",
        "#         coefs = np.fromstring(coefs, \"f\", sep=\" \")\n",
        "#         glove_embeddings[word.lower()] = coefs\n",
        "\n",
        "# print(\"Found %s word vectors.\" % len(glove_embeddings))\n",
        "\n",
        "glove_embeddings = {}\n",
        "with open('/content/drive/MyDrive/PD/glove.6B.300d.txt') as f:\n",
        "    for line in f:\n",
        "        word, coefs = line.split(maxsplit=1)\n",
        "        coefs = np.fromstring(coefs, \"f\", sep=\" \")\n",
        "        glove_embeddings[word.lower()] = coefs\n",
        "\n",
        "print(\"Found %s word vectors.\" % len(glove_embeddings))"
      ],
      "execution_count": null,
      "outputs": [
        {
          "output_type": "stream",
          "text": [
            "Found 400000 word vectors.\n"
          ],
          "name": "stdout"
        }
      ]
    },
    {
      "cell_type": "code",
      "metadata": {
        "colab": {
          "base_uri": "https://localhost:8080/"
        },
        "id": "-Y35anrChIet",
        "outputId": "67ce9afa-2c9a-466f-ec4a-69cf7b692fa3"
      },
      "source": [
        "len(glove_embeddings.keys())"
      ],
      "execution_count": null,
      "outputs": [
        {
          "output_type": "execute_result",
          "data": {
            "text/plain": [
              "400000"
            ]
          },
          "metadata": {
            "tags": []
          },
          "execution_count": 21
        }
      ]
    },
    {
      "cell_type": "code",
      "metadata": {
        "colab": {
          "base_uri": "https://localhost:8080/"
        },
        "id": "4Mfu_n55hIet",
        "outputId": "2916205e-faf5-4e44-da55-ee910780b7bc"
      },
      "source": [
        "word_to_index = dict()\n",
        "index_to_word = ['<pad>','unk']\n",
        "word_to_index['unk'] = 1\n",
        "questions_cols = ['question1', 'question2']\n",
        "q1_indexes = []\n",
        "q2_indexes = []\n",
        "hits = 0\n",
        "misses = 0\n",
        "for index, row in tqdm(temp.iterrows()):\n",
        "    for question in questions_cols:\n",
        "        q2n = []\n",
        "        for word in row[question]:\n",
        "            if word not in glove_embeddings:\n",
        "                misses+=1\n",
        "                word = 'unk'\n",
        "            else:\n",
        "                hits+=1\n",
        "            if word not in word_to_index:\n",
        "                word_to_index[word] = len(index_to_word)\n",
        "                q2n.append(len(index_to_word))\n",
        "                index_to_word.append(word)\n",
        "            else:\n",
        "                q2n.append(word_to_index[word])\n",
        "        if question == 'question1':\n",
        "            q1_indexes.append(q2n)\n",
        "        else:\n",
        "            q2_indexes.append(q2n)\n",
        "print(hits,misses)\n",
        "temp['q1_indexes'] = q1_indexes\n",
        "temp['q2_indexes'] = q2_indexes"
      ],
      "execution_count": null,
      "outputs": [
        {
          "output_type": "stream",
          "text": [
            "5801it [00:00, 7029.27it/s]"
          ],
          "name": "stderr"
        },
        {
          "output_type": "stream",
          "text": [
            "229616 853\n"
          ],
          "name": "stdout"
        },
        {
          "output_type": "stream",
          "text": [
            "\n"
          ],
          "name": "stderr"
        }
      ]
    },
    {
      "cell_type": "code",
      "metadata": {
        "colab": {
          "base_uri": "https://localhost:8080/",
          "height": 923
        },
        "id": "z4xoCbS0hIeu",
        "outputId": "437c33de-62ee-45ac-8f9b-80d9166a0b24"
      },
      "source": [
        "temp"
      ],
      "execution_count": null,
      "outputs": [
        {
          "output_type": "execute_result",
          "data": {
            "text/html": [
              "<div>\n",
              "<style scoped>\n",
              "    .dataframe tbody tr th:only-of-type {\n",
              "        vertical-align: middle;\n",
              "    }\n",
              "\n",
              "    .dataframe tbody tr th {\n",
              "        vertical-align: top;\n",
              "    }\n",
              "\n",
              "    .dataframe thead th {\n",
              "        text-align: right;\n",
              "    }\n",
              "</style>\n",
              "<table border=\"1\" class=\"dataframe\">\n",
              "  <thead>\n",
              "    <tr style=\"text-align: right;\">\n",
              "      <th></th>\n",
              "      <th>id</th>\n",
              "      <th>qid1</th>\n",
              "      <th>qid2</th>\n",
              "      <th>question1</th>\n",
              "      <th>question2</th>\n",
              "      <th>is_duplicate</th>\n",
              "      <th>len_q1</th>\n",
              "      <th>len_q2</th>\n",
              "      <th>q1_indexes</th>\n",
              "      <th>q2_indexes</th>\n",
              "    </tr>\n",
              "  </thead>\n",
              "  <tbody>\n",
              "    <tr>\n",
              "      <th>0</th>\n",
              "      <td>0</td>\n",
              "      <td>702876</td>\n",
              "      <td>702977</td>\n",
              "      <td>[amrozi, accused, his, brother, whom, he, call...</td>\n",
              "      <td>[referring, to, him, as, only, the, witness, a...</td>\n",
              "      <td>1</td>\n",
              "      <td>14</td>\n",
              "      <td>16</td>\n",
              "      <td>[2, 3, 4, 5, 6, 7, 8, 9, 10, 11, 12, 13, 4, 14]</td>\n",
              "      <td>[15, 16, 17, 18, 19, 9, 10, 2, 3, 4, 5, 11, 12...</td>\n",
              "    </tr>\n",
              "    <tr>\n",
              "      <th>1</th>\n",
              "      <td>1</td>\n",
              "      <td>2108705</td>\n",
              "      <td>2108831</td>\n",
              "      <td>[yucaipa, owned, dominick, before, selling, th...</td>\n",
              "      <td>[yucaipa, bought, dominick, in, 1995, for, 693...</td>\n",
              "      <td>0</td>\n",
              "      <td>15</td>\n",
              "      <td>19</td>\n",
              "      <td>[20, 21, 22, 23, 24, 9, 25, 16, 26, 27, 28, 29...</td>\n",
              "      <td>[20, 33, 22, 27, 34, 29, 35, 36, 37, 38, 39, 1...</td>\n",
              "    </tr>\n",
              "    <tr>\n",
              "      <th>2</th>\n",
              "      <td>2</td>\n",
              "      <td>1330381</td>\n",
              "      <td>1330521</td>\n",
              "      <td>[they, had, published, an, advertisement, on, ...</td>\n",
              "      <td>[on, june, 10, the, ship, owners, had, publish...</td>\n",
              "      <td>1</td>\n",
              "      <td>18</td>\n",
              "      <td>18</td>\n",
              "      <td>[42, 43, 44, 45, 46, 47, 9, 48, 47, 49, 50, 51...</td>\n",
              "      <td>[47, 49, 50, 9, 55, 56, 43, 44, 45, 46, 47, 9,...</td>\n",
              "    </tr>\n",
              "    <tr>\n",
              "      <th>3</th>\n",
              "      <td>3</td>\n",
              "      <td>3344667</td>\n",
              "      <td>3344648</td>\n",
              "      <td>[around, 0335, gmt, tab, shares, were, up, 19,...</td>\n",
              "      <td>[tab, shares, jumped, 20, cents, or, 4, 6, to,...</td>\n",
              "      <td>0</td>\n",
              "      <td>26</td>\n",
              "      <td>18</td>\n",
              "      <td>[58, 59, 60, 61, 62, 63, 64, 65, 66, 67, 68, 6...</td>\n",
              "      <td>[61, 62, 78, 79, 66, 67, 68, 80, 16, 74, 70, 7...</td>\n",
              "    </tr>\n",
              "    <tr>\n",
              "      <th>4</th>\n",
              "      <td>4</td>\n",
              "      <td>1236820</td>\n",
              "      <td>1236712</td>\n",
              "      <td>[the, stock, rose, 2, 11, or, about, 11, perce...</td>\n",
              "      <td>[pg, e, corp, shares, jumped, 1, 63, or, 8, pe...</td>\n",
              "      <td>1</td>\n",
              "      <td>21</td>\n",
              "      <td>21</td>\n",
              "      <td>[9, 82, 83, 30, 84, 67, 85, 84, 86, 16, 87, 88...</td>\n",
              "      <td>[94, 95, 96, 62, 78, 40, 97, 67, 41, 86, 16, 8...</td>\n",
              "    </tr>\n",
              "    <tr>\n",
              "      <th>...</th>\n",
              "      <td>...</td>\n",
              "      <td>...</td>\n",
              "      <td>...</td>\n",
              "      <td>...</td>\n",
              "      <td>...</td>\n",
              "      <td>...</td>\n",
              "      <td>...</td>\n",
              "      <td>...</td>\n",
              "      <td>...</td>\n",
              "      <td>...</td>\n",
              "    </tr>\n",
              "    <tr>\n",
              "      <th>5796</th>\n",
              "      <td>5796</td>\n",
              "      <td>2685984</td>\n",
              "      <td>2686122</td>\n",
              "      <td>[after, hughes, refused, to, rehire, hernandez...</td>\n",
              "      <td>[hernandez, filed, an, equal, employment, oppo...</td>\n",
              "      <td>0</td>\n",
              "      <td>14</td>\n",
              "      <td>10</td>\n",
              "      <td>[466, 1753, 2131, 16, 10496, 2372, 7, 15176, 1...</td>\n",
              "      <td>[2372, 574, 45, 1830, 5262, 2175, 653, 4930, 3...</td>\n",
              "    </tr>\n",
              "    <tr>\n",
              "      <th>5797</th>\n",
              "      <td>5797</td>\n",
              "      <td>339215</td>\n",
              "      <td>339172</td>\n",
              "      <td>[there, are, 103, democrats, in, the, assembly...</td>\n",
              "      <td>[democrats, dominate, the, assembly, while, re...</td>\n",
              "      <td>0</td>\n",
              "      <td>10</td>\n",
              "      <td>9</td>\n",
              "      <td>[559, 487, 3822, 1864, 27, 9, 4849, 37, 1352, ...</td>\n",
              "      <td>[1864, 15177, 9, 4849, 181, 1863, 1665, 9, 3000]</td>\n",
              "    </tr>\n",
              "    <tr>\n",
              "      <th>5798</th>\n",
              "      <td>5798</td>\n",
              "      <td>2996850</td>\n",
              "      <td>2996734</td>\n",
              "      <td>[bethany, hamilton, remained, in, stable, cond...</td>\n",
              "      <td>[bethany, who, remained, in, stable, condition...</td>\n",
              "      <td>0</td>\n",
              "      <td>12</td>\n",
              "      <td>16</td>\n",
              "      <td>[10364, 1062, 2337, 27, 1735, 2316, 1780, 466,...</td>\n",
              "      <td>[10364, 611, 2337, 27, 1735, 2316, 466, 9, 125...</td>\n",
              "    </tr>\n",
              "    <tr>\n",
              "      <th>5799</th>\n",
              "      <td>5799</td>\n",
              "      <td>2095781</td>\n",
              "      <td>2095812</td>\n",
              "      <td>[last, week, the, power, station, s, us, owner...</td>\n",
              "      <td>[the, news, comes, after, drax, american, owne...</td>\n",
              "      <td>1</td>\n",
              "      <td>26</td>\n",
              "      <td>28</td>\n",
              "      <td>[505, 976, 9, 985, 473, 139, 632, 56, 9596, 96...</td>\n",
              "      <td>[9, 685, 853, 466, 7137, 488, 9595, 9596, 96, ...</td>\n",
              "    </tr>\n",
              "    <tr>\n",
              "      <th>5800</th>\n",
              "      <td>5800</td>\n",
              "      <td>2136244</td>\n",
              "      <td>2136052</td>\n",
              "      <td>[sobig, f, spreads, when, unsuspecting, comput...</td>\n",
              "      <td>[the, virus, spreads, when, unsuspecting, comp...</td>\n",
              "      <td>1</td>\n",
              "      <td>29</td>\n",
              "      <td>24</td>\n",
              "      <td>[2952, 2953, 2943, 232, 2944, 2945, 1680, 1766...</td>\n",
              "      <td>[9, 788, 2943, 232, 2944, 2945, 1680, 1766, 13...</td>\n",
              "    </tr>\n",
              "  </tbody>\n",
              "</table>\n",
              "<p>5801 rows × 10 columns</p>\n",
              "</div>"
            ],
            "text/plain": [
              "        id  ...                                         q2_indexes\n",
              "0        0  ...  [15, 16, 17, 18, 19, 9, 10, 2, 3, 4, 5, 11, 12...\n",
              "1        1  ...  [20, 33, 22, 27, 34, 29, 35, 36, 37, 38, 39, 1...\n",
              "2        2  ...  [47, 49, 50, 9, 55, 56, 43, 44, 45, 46, 47, 9,...\n",
              "3        3  ...  [61, 62, 78, 79, 66, 67, 68, 80, 16, 74, 70, 7...\n",
              "4        4  ...  [94, 95, 96, 62, 78, 40, 97, 67, 41, 86, 16, 8...\n",
              "...    ...  ...                                                ...\n",
              "5796  5796  ...  [2372, 574, 45, 1830, 5262, 2175, 653, 4930, 3...\n",
              "5797  5797  ...   [1864, 15177, 9, 4849, 181, 1863, 1665, 9, 3000]\n",
              "5798  5798  ...  [10364, 611, 2337, 27, 1735, 2316, 466, 9, 125...\n",
              "5799  5799  ...  [9, 685, 853, 466, 7137, 488, 9595, 9596, 96, ...\n",
              "5800  5800  ...  [9, 788, 2943, 232, 2944, 2945, 1680, 1766, 13...\n",
              "\n",
              "[5801 rows x 10 columns]"
            ]
          },
          "metadata": {
            "tags": []
          },
          "execution_count": 23
        }
      ]
    },
    {
      "cell_type": "code",
      "metadata": {
        "colab": {
          "base_uri": "https://localhost:8080/"
        },
        "id": "qGb0T7oQhIeu",
        "outputId": "6e85f535-c196-4110-ae03-622e220063dc"
      },
      "source": [
        "len(word_to_index)"
      ],
      "execution_count": null,
      "outputs": [
        {
          "output_type": "execute_result",
          "data": {
            "text/plain": [
              "15177"
            ]
          },
          "metadata": {
            "tags": []
          },
          "execution_count": 24
        }
      ]
    },
    {
      "cell_type": "code",
      "metadata": {
        "id": "6LRmDd58hIeu"
      },
      "source": [
        "num_tokens = len(word_to_index) + 2\n",
        "embedding_matrix = np.zeros((num_tokens, embeddings_len))\n",
        "for word, i in word_to_index.items():\n",
        "    embedding_matrix[i] = glove_embeddings[word]"
      ],
      "execution_count": null,
      "outputs": []
    },
    {
      "cell_type": "code",
      "metadata": {
        "id": "OfsGjls8hIev"
      },
      "source": [
        "# temp = temp[temp['q1_indexes'].map(lambda x:len(x))<max_sentence_length]\n",
        "# temp = temp[temp['q2_indexes'].map(lambda x:len(x))<max_sentence_length]\n",
        "temp.loc[:,'l'] = pd.Series(list(keras.preprocessing.sequence.pad_sequences(temp['q1_indexes'], maxlen=max_sentence_length)),index=temp.index)\n",
        "temp.loc[:,'r'] = pd.Series(list(keras.preprocessing.sequence.pad_sequences(temp['q2_indexes'], maxlen=max_sentence_length)),index=temp.index)"
      ],
      "execution_count": null,
      "outputs": []
    },
    {
      "cell_type": "code",
      "metadata": {
        "colab": {
          "base_uri": "https://localhost:8080/",
          "height": 1000
        },
        "id": "A5Eszo2MhIev",
        "outputId": "df8ca762-5c58-4fbb-c922-de5a61fb69dd"
      },
      "source": [
        "temp"
      ],
      "execution_count": null,
      "outputs": [
        {
          "output_type": "execute_result",
          "data": {
            "text/html": [
              "<div>\n",
              "<style scoped>\n",
              "    .dataframe tbody tr th:only-of-type {\n",
              "        vertical-align: middle;\n",
              "    }\n",
              "\n",
              "    .dataframe tbody tr th {\n",
              "        vertical-align: top;\n",
              "    }\n",
              "\n",
              "    .dataframe thead th {\n",
              "        text-align: right;\n",
              "    }\n",
              "</style>\n",
              "<table border=\"1\" class=\"dataframe\">\n",
              "  <thead>\n",
              "    <tr style=\"text-align: right;\">\n",
              "      <th></th>\n",
              "      <th>id</th>\n",
              "      <th>qid1</th>\n",
              "      <th>qid2</th>\n",
              "      <th>question1</th>\n",
              "      <th>question2</th>\n",
              "      <th>is_duplicate</th>\n",
              "      <th>len_q1</th>\n",
              "      <th>len_q2</th>\n",
              "      <th>q1_indexes</th>\n",
              "      <th>q2_indexes</th>\n",
              "      <th>l</th>\n",
              "      <th>r</th>\n",
              "    </tr>\n",
              "  </thead>\n",
              "  <tbody>\n",
              "    <tr>\n",
              "      <th>0</th>\n",
              "      <td>0</td>\n",
              "      <td>702876</td>\n",
              "      <td>702977</td>\n",
              "      <td>[amrozi, accused, his, brother, whom, he, call...</td>\n",
              "      <td>[referring, to, him, as, only, the, witness, a...</td>\n",
              "      <td>1</td>\n",
              "      <td>14</td>\n",
              "      <td>16</td>\n",
              "      <td>[2, 3, 4, 5, 6, 7, 8, 9, 10, 11, 12, 13, 4, 14]</td>\n",
              "      <td>[15, 16, 17, 18, 19, 9, 10, 2, 3, 4, 5, 11, 12...</td>\n",
              "      <td>[0, 0, 0, 0, 0, 0, 0, 0, 0, 0, 0, 0, 0, 0, 0, ...</td>\n",
              "      <td>[0, 0, 0, 0, 0, 0, 0, 0, 0, 0, 0, 0, 0, 0, 0, ...</td>\n",
              "    </tr>\n",
              "    <tr>\n",
              "      <th>1</th>\n",
              "      <td>1</td>\n",
              "      <td>2108705</td>\n",
              "      <td>2108831</td>\n",
              "      <td>[yucaipa, owned, dominick, before, selling, th...</td>\n",
              "      <td>[yucaipa, bought, dominick, in, 1995, for, 693...</td>\n",
              "      <td>0</td>\n",
              "      <td>15</td>\n",
              "      <td>19</td>\n",
              "      <td>[20, 21, 22, 23, 24, 9, 25, 16, 26, 27, 28, 29...</td>\n",
              "      <td>[20, 33, 22, 27, 34, 29, 35, 36, 37, 38, 39, 1...</td>\n",
              "      <td>[0, 0, 0, 0, 0, 0, 0, 0, 0, 0, 0, 0, 0, 0, 0, ...</td>\n",
              "      <td>[0, 0, 0, 0, 0, 0, 0, 0, 0, 0, 0, 0, 0, 0, 0, ...</td>\n",
              "    </tr>\n",
              "    <tr>\n",
              "      <th>2</th>\n",
              "      <td>2</td>\n",
              "      <td>1330381</td>\n",
              "      <td>1330521</td>\n",
              "      <td>[they, had, published, an, advertisement, on, ...</td>\n",
              "      <td>[on, june, 10, the, ship, owners, had, publish...</td>\n",
              "      <td>1</td>\n",
              "      <td>18</td>\n",
              "      <td>18</td>\n",
              "      <td>[42, 43, 44, 45, 46, 47, 9, 48, 47, 49, 50, 51...</td>\n",
              "      <td>[47, 49, 50, 9, 55, 56, 43, 44, 45, 46, 47, 9,...</td>\n",
              "      <td>[0, 0, 0, 0, 0, 0, 0, 0, 0, 0, 0, 0, 0, 0, 0, ...</td>\n",
              "      <td>[0, 0, 0, 0, 0, 0, 0, 0, 0, 0, 0, 0, 0, 0, 0, ...</td>\n",
              "    </tr>\n",
              "    <tr>\n",
              "      <th>3</th>\n",
              "      <td>3</td>\n",
              "      <td>3344667</td>\n",
              "      <td>3344648</td>\n",
              "      <td>[around, 0335, gmt, tab, shares, were, up, 19,...</td>\n",
              "      <td>[tab, shares, jumped, 20, cents, or, 4, 6, to,...</td>\n",
              "      <td>0</td>\n",
              "      <td>26</td>\n",
              "      <td>18</td>\n",
              "      <td>[58, 59, 60, 61, 62, 63, 64, 65, 66, 67, 68, 6...</td>\n",
              "      <td>[61, 62, 78, 79, 66, 67, 68, 80, 16, 74, 70, 7...</td>\n",
              "      <td>[0, 0, 0, 0, 0, 0, 0, 0, 0, 0, 0, 0, 0, 0, 58,...</td>\n",
              "      <td>[0, 0, 0, 0, 0, 0, 0, 0, 0, 0, 0, 0, 0, 0, 0, ...</td>\n",
              "    </tr>\n",
              "    <tr>\n",
              "      <th>4</th>\n",
              "      <td>4</td>\n",
              "      <td>1236820</td>\n",
              "      <td>1236712</td>\n",
              "      <td>[the, stock, rose, 2, 11, or, about, 11, perce...</td>\n",
              "      <td>[pg, e, corp, shares, jumped, 1, 63, or, 8, pe...</td>\n",
              "      <td>1</td>\n",
              "      <td>21</td>\n",
              "      <td>21</td>\n",
              "      <td>[9, 82, 83, 30, 84, 67, 85, 84, 86, 16, 87, 88...</td>\n",
              "      <td>[94, 95, 96, 62, 78, 40, 97, 67, 41, 86, 16, 8...</td>\n",
              "      <td>[0, 0, 0, 0, 0, 0, 0, 0, 0, 0, 0, 0, 0, 0, 0, ...</td>\n",
              "      <td>[0, 0, 0, 0, 0, 0, 0, 0, 0, 0, 0, 0, 0, 0, 0, ...</td>\n",
              "    </tr>\n",
              "    <tr>\n",
              "      <th>...</th>\n",
              "      <td>...</td>\n",
              "      <td>...</td>\n",
              "      <td>...</td>\n",
              "      <td>...</td>\n",
              "      <td>...</td>\n",
              "      <td>...</td>\n",
              "      <td>...</td>\n",
              "      <td>...</td>\n",
              "      <td>...</td>\n",
              "      <td>...</td>\n",
              "      <td>...</td>\n",
              "      <td>...</td>\n",
              "    </tr>\n",
              "    <tr>\n",
              "      <th>5796</th>\n",
              "      <td>5796</td>\n",
              "      <td>2685984</td>\n",
              "      <td>2686122</td>\n",
              "      <td>[after, hughes, refused, to, rehire, hernandez...</td>\n",
              "      <td>[hernandez, filed, an, equal, employment, oppo...</td>\n",
              "      <td>0</td>\n",
              "      <td>14</td>\n",
              "      <td>10</td>\n",
              "      <td>[466, 1753, 2131, 16, 10496, 2372, 7, 15176, 1...</td>\n",
              "      <td>[2372, 574, 45, 1830, 5262, 2175, 653, 4930, 3...</td>\n",
              "      <td>[0, 0, 0, 0, 0, 0, 0, 0, 0, 0, 0, 0, 0, 0, 0, ...</td>\n",
              "      <td>[0, 0, 0, 0, 0, 0, 0, 0, 0, 0, 0, 0, 0, 0, 0, ...</td>\n",
              "    </tr>\n",
              "    <tr>\n",
              "      <th>5797</th>\n",
              "      <td>5797</td>\n",
              "      <td>339215</td>\n",
              "      <td>339172</td>\n",
              "      <td>[there, are, 103, democrats, in, the, assembly...</td>\n",
              "      <td>[democrats, dominate, the, assembly, while, re...</td>\n",
              "      <td>0</td>\n",
              "      <td>10</td>\n",
              "      <td>9</td>\n",
              "      <td>[559, 487, 3822, 1864, 27, 9, 4849, 37, 1352, ...</td>\n",
              "      <td>[1864, 15177, 9, 4849, 181, 1863, 1665, 9, 3000]</td>\n",
              "      <td>[0, 0, 0, 0, 0, 0, 0, 0, 0, 0, 0, 0, 0, 0, 0, ...</td>\n",
              "      <td>[0, 0, 0, 0, 0, 0, 0, 0, 0, 0, 0, 0, 0, 0, 0, ...</td>\n",
              "    </tr>\n",
              "    <tr>\n",
              "      <th>5798</th>\n",
              "      <td>5798</td>\n",
              "      <td>2996850</td>\n",
              "      <td>2996734</td>\n",
              "      <td>[bethany, hamilton, remained, in, stable, cond...</td>\n",
              "      <td>[bethany, who, remained, in, stable, condition...</td>\n",
              "      <td>0</td>\n",
              "      <td>12</td>\n",
              "      <td>16</td>\n",
              "      <td>[10364, 1062, 2337, 27, 1735, 2316, 1780, 466,...</td>\n",
              "      <td>[10364, 611, 2337, 27, 1735, 2316, 466, 9, 125...</td>\n",
              "      <td>[0, 0, 0, 0, 0, 0, 0, 0, 0, 0, 0, 0, 0, 0, 0, ...</td>\n",
              "      <td>[0, 0, 0, 0, 0, 0, 0, 0, 0, 0, 0, 0, 0, 0, 0, ...</td>\n",
              "    </tr>\n",
              "    <tr>\n",
              "      <th>5799</th>\n",
              "      <td>5799</td>\n",
              "      <td>2095781</td>\n",
              "      <td>2095812</td>\n",
              "      <td>[last, week, the, power, station, s, us, owner...</td>\n",
              "      <td>[the, news, comes, after, drax, american, owne...</td>\n",
              "      <td>1</td>\n",
              "      <td>26</td>\n",
              "      <td>28</td>\n",
              "      <td>[505, 976, 9, 985, 473, 139, 632, 56, 9596, 96...</td>\n",
              "      <td>[9, 685, 853, 466, 7137, 488, 9595, 9596, 96, ...</td>\n",
              "      <td>[0, 0, 0, 0, 0, 0, 0, 0, 0, 0, 0, 0, 0, 0, 505...</td>\n",
              "      <td>[0, 0, 0, 0, 0, 0, 0, 0, 0, 0, 0, 0, 9, 685, 8...</td>\n",
              "    </tr>\n",
              "    <tr>\n",
              "      <th>5800</th>\n",
              "      <td>5800</td>\n",
              "      <td>2136244</td>\n",
              "      <td>2136052</td>\n",
              "      <td>[sobig, f, spreads, when, unsuspecting, comput...</td>\n",
              "      <td>[the, virus, spreads, when, unsuspecting, comp...</td>\n",
              "      <td>1</td>\n",
              "      <td>29</td>\n",
              "      <td>24</td>\n",
              "      <td>[2952, 2953, 2943, 232, 2944, 2945, 1680, 1766...</td>\n",
              "      <td>[9, 788, 2943, 232, 2944, 2945, 1680, 1766, 13...</td>\n",
              "      <td>[0, 0, 0, 0, 0, 0, 0, 0, 0, 0, 0, 2952, 2953, ...</td>\n",
              "      <td>[0, 0, 0, 0, 0, 0, 0, 0, 0, 0, 0, 0, 0, 0, 0, ...</td>\n",
              "    </tr>\n",
              "  </tbody>\n",
              "</table>\n",
              "<p>5801 rows × 12 columns</p>\n",
              "</div>"
            ],
            "text/plain": [
              "        id  ...                                                  r\n",
              "0        0  ...  [0, 0, 0, 0, 0, 0, 0, 0, 0, 0, 0, 0, 0, 0, 0, ...\n",
              "1        1  ...  [0, 0, 0, 0, 0, 0, 0, 0, 0, 0, 0, 0, 0, 0, 0, ...\n",
              "2        2  ...  [0, 0, 0, 0, 0, 0, 0, 0, 0, 0, 0, 0, 0, 0, 0, ...\n",
              "3        3  ...  [0, 0, 0, 0, 0, 0, 0, 0, 0, 0, 0, 0, 0, 0, 0, ...\n",
              "4        4  ...  [0, 0, 0, 0, 0, 0, 0, 0, 0, 0, 0, 0, 0, 0, 0, ...\n",
              "...    ...  ...                                                ...\n",
              "5796  5796  ...  [0, 0, 0, 0, 0, 0, 0, 0, 0, 0, 0, 0, 0, 0, 0, ...\n",
              "5797  5797  ...  [0, 0, 0, 0, 0, 0, 0, 0, 0, 0, 0, 0, 0, 0, 0, ...\n",
              "5798  5798  ...  [0, 0, 0, 0, 0, 0, 0, 0, 0, 0, 0, 0, 0, 0, 0, ...\n",
              "5799  5799  ...  [0, 0, 0, 0, 0, 0, 0, 0, 0, 0, 0, 0, 9, 685, 8...\n",
              "5800  5800  ...  [0, 0, 0, 0, 0, 0, 0, 0, 0, 0, 0, 0, 0, 0, 0, ...\n",
              "\n",
              "[5801 rows x 12 columns]"
            ]
          },
          "metadata": {
            "tags": []
          },
          "execution_count": 27
        }
      ]
    },
    {
      "cell_type": "code",
      "metadata": {
        "colab": {
          "base_uri": "https://localhost:8080/"
        },
        "id": "j5wxEusThIev",
        "outputId": "666c2ed6-1eb4-4df0-b674-246a1289a56c"
      },
      "source": [
        "X_l = np.stack(temp['l'].to_numpy(),axis=1).T\n",
        "X_r = np.stack(temp['r'].to_numpy(),axis=1).T\n",
        "X = np.stack([X_l,X_r],axis=1)\n",
        "print(X)\n",
        "# X = np.stack(temp['l'].to_numpy(),axis=1).T\n",
        "Y = np.stack(temp['is_duplicate'].to_numpy())\n",
        "X_train, X_validation, Y_train, Y_validation = train_test_split(X, Y, test_size=0.2)"
      ],
      "execution_count": null,
      "outputs": [
        {
          "output_type": "stream",
          "text": [
            "[[[   0    0    0 ...   13    4   14]\n",
            "  [   0    0    0 ...   13    4   14]]\n",
            "\n",
            " [[   0    0    0 ...   30   31   32]\n",
            "  [   0    0    0 ...   32   27   28]]\n",
            "\n",
            " [[   0    0    0 ...   53    7   54]\n",
            "  [   0    0    0 ...   57   29   53]]\n",
            "\n",
            " ...\n",
            "\n",
            " [[   0    0    0 ... 1258   88  728]\n",
            "  [   0    0    0 ...    9 1258 1780]]\n",
            "\n",
            " [[   0    0    0 ... 1167 9597  708]\n",
            "  [   0    0    0 ...  669 9597  708]]\n",
            "\n",
            " [[   0    0    0 ...  684  136 2954]\n",
            "  [   0    0    0 ...  943  684  658]]]\n"
          ],
          "name": "stdout"
        }
      ]
    },
    {
      "cell_type": "code",
      "metadata": {
        "colab": {
          "base_uri": "https://localhost:8080/"
        },
        "id": "kLg2wH-uhIev",
        "outputId": "c4f63e0a-f282-4bb6-f466-7544b07a1541"
      },
      "source": [
        "temp.iloc[0]"
      ],
      "execution_count": null,
      "outputs": [
        {
          "output_type": "execute_result",
          "data": {
            "text/plain": [
              "id                                                              0\n",
              "qid1                                                       702876\n",
              "qid2                                                       702977\n",
              "question1       [amrozi, accused, his, brother, whom, he, call...\n",
              "question2       [referring, to, him, as, only, the, witness, a...\n",
              "is_duplicate                                                    1\n",
              "len_q1                                                         14\n",
              "len_q2                                                         16\n",
              "q1_indexes        [2, 3, 4, 5, 6, 7, 8, 9, 10, 11, 12, 13, 4, 14]\n",
              "q2_indexes      [15, 16, 17, 18, 19, 9, 10, 2, 3, 4, 5, 11, 12...\n",
              "l               [0, 0, 0, 0, 0, 0, 0, 0, 0, 0, 0, 0, 0, 0, 0, ...\n",
              "r               [0, 0, 0, 0, 0, 0, 0, 0, 0, 0, 0, 0, 0, 0, 0, ...\n",
              "Name: 0, dtype: object"
            ]
          },
          "metadata": {
            "tags": []
          },
          "execution_count": 29
        }
      ]
    },
    {
      "cell_type": "code",
      "metadata": {
        "colab": {
          "base_uri": "https://localhost:8080/"
        },
        "id": "R6Mp7jPDhIew",
        "outputId": "c2b3ab27-c42a-49e5-e656-705638a5bc12"
      },
      "source": [
        "temp.iloc[0]['l']"
      ],
      "execution_count": null,
      "outputs": [
        {
          "output_type": "execute_result",
          "data": {
            "text/plain": [
              "array([ 0,  0,  0,  0,  0,  0,  0,  0,  0,  0,  0,  0,  0,  0,  0,  0,  0,\n",
              "        0,  0,  0,  0,  0,  0,  0,  0,  0,  2,  3,  4,  5,  6,  7,  8,  9,\n",
              "       10, 11, 12, 13,  4, 14], dtype=int32)"
            ]
          },
          "metadata": {
            "tags": []
          },
          "execution_count": 30
        }
      ]
    },
    {
      "cell_type": "code",
      "metadata": {
        "scrolled": true,
        "colab": {
          "base_uri": "https://localhost:8080/"
        },
        "id": "6lcm0f_mhIew",
        "outputId": "8b305a71-3fb8-4cc5-f7e9-63f98f23ff66"
      },
      "source": [
        "embedding_matrix[1]"
      ],
      "execution_count": null,
      "outputs": [
        {
          "output_type": "execute_result",
          "data": {
            "text/plain": [
              "array([ 3.00709993e-01, -4.68670011e-01, -2.06169993e-01, -8.09780002e-01,\n",
              "       -2.38890007e-01,  2.43290007e-01,  1.65379997e-02, -3.56869996e-02,\n",
              "       -2.23059997e-01,  9.51889992e-01, -3.22730005e-01,  2.19799995e-01,\n",
              "       -6.75240010e-02, -3.72200012e-01, -3.97179991e-01, -4.38609987e-01,\n",
              "        1.19670004e-01, -2.99640000e-01,  2.84369998e-02, -8.75440016e-02,\n",
              "        1.65690005e-01, -4.94509995e-01, -6.20109975e-01, -1.65739998e-01,\n",
              "       -9.72179994e-02, -9.94739980e-02, -8.03069994e-02, -3.93379986e-01,\n",
              "       -2.41950005e-01,  3.20230007e-01, -5.33200026e-01, -4.01840001e-01,\n",
              "       -6.71350002e-01, -7.85610005e-02,  5.55459976e-01,  2.99970001e-01,\n",
              "       -9.96500030e-02, -6.70350015e-01,  1.26690000e-01, -1.86179996e-01,\n",
              "       -6.26209974e-02,  4.52899992e-01,  3.92650008e-01,  2.41209999e-01,\n",
              "       -4.14739996e-01, -6.18900001e-01, -1.04120001e-01, -3.10429990e-01,\n",
              "       -6.67880010e-03, -8.32480013e-01,  6.51499987e-01,  9.01809990e-01,\n",
              "        2.41459999e-02, -7.07660019e-02, -3.95799994e-01, -3.64870012e-01,\n",
              "       -2.39289999e-01, -1.51449993e-01,  2.07770005e-01,  5.46710014e-01,\n",
              "       -2.50420004e-01, -6.01419985e-01, -5.48200011e-01,  7.72489980e-03,\n",
              "       -5.32880008e-01,  5.03250003e-01, -1.27120003e-01,  1.19889997e-01,\n",
              "       -6.45839989e-01,  3.55760008e-01,  1.74960002e-01,  1.18380003e-01,\n",
              "       -3.21810007e-01,  7.48139992e-02, -9.03809965e-02, -2.98429996e-01,\n",
              "        1.67980008e-02, -1.27350003e-01,  7.35669971e-01, -1.73350006e-01,\n",
              "        3.71230006e-01,  3.79790008e-01, -5.18010020e-01,  2.76210010e-01,\n",
              "        2.15120003e-01, -8.25880021e-02,  2.16380000e-01,  1.25949994e-01,\n",
              "        3.84359986e-01, -1.33320004e-01,  5.71850017e-02, -2.81269997e-01,\n",
              "       -4.43100005e-01,  1.34979993e-01,  1.33059993e-01, -3.20499986e-02,\n",
              "        1.97190002e-01,  2.54550010e-01,  6.34750009e-01, -2.34740004e-01,\n",
              "       -3.60379994e-01,  4.11479995e-02, -2.44220003e-01,  8.37310016e-01,\n",
              "       -2.25040004e-01, -2.96829998e-01,  6.38979971e-01, -3.97740006e-01,\n",
              "       -1.03220001e-01, -1.74459994e-01, -7.80590028e-02,  2.64789999e-01,\n",
              "       -4.22500014e-01, -1.06710002e-01, -9.64680016e-02, -1.70269996e-01,\n",
              "        2.74969995e-01, -1.28130004e-01,  2.47510001e-01,  2.59990007e-01,\n",
              "        1.83270007e-01,  1.09880000e-01,  3.54860007e-04, -4.90289986e-01,\n",
              "        1.95820004e-01, -4.52259988e-01, -1.36169996e-02,  1.07649997e-01,\n",
              "       -1.61610004e-02, -2.72419989e-01,  7.78770000e-02, -1.18600003e-01,\n",
              "        9.27919969e-02, -4.37739998e-01, -2.65390009e-01, -2.65899986e-01,\n",
              "        8.05850029e-02,  1.86260000e-01,  1.73620000e-01, -2.02419996e-01,\n",
              "        3.53269994e-01, -6.43350035e-02,  1.37639999e-01, -4.44169998e-01,\n",
              "        8.75209987e-01, -2.32600003e-01, -6.76569998e-01,  2.38910004e-01,\n",
              "       -8.01760033e-02,  4.95260000e-01, -2.85789996e-01,  2.50409991e-01,\n",
              "        1.58529997e-01, -1.29600003e-01, -5.15290022e-01, -3.31750005e-01,\n",
              "        4.18260008e-01,  3.32109988e-01, -1.17929995e+00,  2.28180006e-01,\n",
              "       -5.77549994e-01,  7.73140013e-01,  1.60929993e-01,  2.33600006e-01,\n",
              "       -1.87639996e-01, -2.45159999e-01, -5.48030019e-01,  2.31099993e-01,\n",
              "       -3.29750001e-01, -1.26460001e-01,  3.79839987e-01,  3.60060006e-01,\n",
              "        6.03820026e-01, -1.58820003e-01, -4.36820000e-01, -6.34440005e-01,\n",
              "       -2.88300008e-01, -1.36089996e-01, -2.58210003e-02, -4.07669991e-01,\n",
              "        1.86360002e-01, -4.58570004e-01, -2.46110007e-01, -4.58899997e-02,\n",
              "        8.76130015e-02, -1.56849995e-01,  3.01290005e-01, -8.01760018e-01,\n",
              "        1.23630002e-01,  7.14580016e-03,  1.47510007e-01,  3.54710013e-01,\n",
              "        1.51199996e-01,  8.19379985e-02, -3.67110014e-01, -2.72080004e-01,\n",
              "       -3.55969995e-01,  1.72069997e-01, -4.18500006e-02,  4.95469987e-01,\n",
              "       -3.16300005e-01,  3.49150002e-01, -3.72949988e-02,  2.09959999e-01,\n",
              "       -3.01030010e-01, -1.08750001e-01,  3.03539991e-01,  2.81569988e-01,\n",
              "       -7.98799992e-02, -5.06110013e-01, -2.94160008e-01, -3.08609992e-01,\n",
              "       -8.24620008e-01, -1.00189999e-01,  9.04730037e-02, -1.82380006e-01,\n",
              "       -5.92229981e-03,  6.38329983e-02,  1.52099997e-01, -2.53850013e-01,\n",
              "       -6.88310027e-01, -3.45490016e-02,  4.51799989e-01,  6.22930005e-02,\n",
              "       -4.63429987e-01,  4.04000014e-01,  4.51060012e-02,  1.73749998e-01,\n",
              "       -2.77449992e-02,  3.63609999e-01,  7.82350004e-02,  1.95380002e-01,\n",
              "       -1.65059999e-01,  3.96270007e-02, -3.01129997e-01,  2.22570002e-01,\n",
              "        2.67730001e-02,  1.91510007e-01,  4.99870002e-01, -3.54909986e-01,\n",
              "       -1.99280009e-02,  9.07010019e-01, -8.54900002e-01, -3.93610001e-01,\n",
              "        4.10299987e-01,  1.46310002e-01, -1.56639993e-01,  5.39709985e-01,\n",
              "        1.48690000e-01, -5.51929995e-02, -4.77180004e-01, -3.74980003e-01,\n",
              "       -5.32329977e-01,  1.23199999e-01, -1.22270003e-01, -5.81570007e-02,\n",
              "        2.42449995e-02,  1.25770003e-01, -1.85580000e-01,  7.50539973e-02,\n",
              "       -7.28219986e-01, -3.58779989e-02,  1.59889996e-01, -2.57429987e-01,\n",
              "        2.18559995e-01, -2.28100002e-01,  4.83560003e-02,  5.60230017e-02,\n",
              "        1.51109993e-01,  2.29450002e-01,  4.58460003e-01, -8.70560035e-02,\n",
              "       -2.96620011e-01,  1.50539996e-02,  2.11019993e-01, -3.74459997e-02,\n",
              "        7.89020002e-01, -3.41930002e-01, -8.24299991e-01, -7.17480004e-01,\n",
              "       -1.96490005e-01,  8.75699967e-02, -2.05520004e-01,  1.46100000e-02,\n",
              "       -3.80879998e-01,  6.53090000e-01, -2.05610007e-01, -2.84269992e-02,\n",
              "        1.05769997e-02,  8.84099957e-03,  1.19920000e-01,  1.46109998e-01,\n",
              "        1.60339996e-01,  7.24309981e-02, -4.37599987e-01, -2.59790003e-01,\n",
              "        5.81579983e-01,  4.92670000e-01, -1.12760000e-01, -2.77749985e-01])"
            ]
          },
          "metadata": {
            "tags": []
          },
          "execution_count": 31
        }
      ]
    },
    {
      "cell_type": "code",
      "metadata": {
        "colab": {
          "base_uri": "https://localhost:8080/"
        },
        "id": "7SJjM3XehIew",
        "outputId": "672be485-ee58-4f2b-ea55-80993bcad0a7"
      },
      "source": [
        "embedding_matrix.shape"
      ],
      "execution_count": null,
      "outputs": [
        {
          "output_type": "execute_result",
          "data": {
            "text/plain": [
              "(15179, 300)"
            ]
          },
          "metadata": {
            "tags": []
          },
          "execution_count": 32
        }
      ]
    },
    {
      "cell_type": "markdown",
      "metadata": {
        "id": "kl2R4mM3hIew"
      },
      "source": [
        "## Building Model"
      ]
    },
    {
      "cell_type": "code",
      "metadata": {
        "id": "5imD7BdZhIew"
      },
      "source": [
        "embedding_layer = layers.Embedding(\n",
        "    num_tokens,\n",
        "    embeddings_len,\n",
        "    embeddings_initializer=keras.initializers.Constant(embedding_matrix),\n",
        "    trainable=False,\n",
        ")"
      ],
      "execution_count": null,
      "outputs": []
    },
    {
      "cell_type": "code",
      "metadata": {
        "id": "lEdyBZKKhIex"
      },
      "source": [
        "left_input = layers.Input(shape=(max_sentence_length,), dtype='int32')\n",
        "right_input = layers.Input(shape=(max_sentence_length,), dtype='int32')"
      ],
      "execution_count": null,
      "outputs": []
    },
    {
      "cell_type": "code",
      "metadata": {
        "id": "GAMSLY_EhIex"
      },
      "source": [
        "encoded_left = embedding_layer(left_input)\n",
        "encoded_right = embedding_layer(right_input)"
      ],
      "execution_count": null,
      "outputs": []
    },
    {
      "cell_type": "code",
      "metadata": {
        "id": "N8Lr1he8hIex"
      },
      "source": [
        "lstm_dim = 64\n",
        "forward_layer = layers.LSTM(lstm_dim, return_sequences=True, return_state=True, dropout=0.1)\n",
        "backward_layer = layers.LSTM(lstm_dim, return_sequences=True, return_state=True, go_backwards=True, dropout=0.1)"
      ],
      "execution_count": null,
      "outputs": []
    },
    {
      "cell_type": "code",
      "metadata": {
        "id": "BegvakR-hIex"
      },
      "source": [
        "forward_left, forward_left_final, _ = forward_layer(encoded_left)\n",
        "forward_right, forward_right_final, _ = forward_layer(encoded_right)\n",
        "backward_left, backward_left_final, _ = backward_layer(encoded_left)\n",
        "backward_left = keras.backend.reverse(backward_left,axes=-2)\n",
        "backward_right, backward_right_final, _ = backward_layer(encoded_right)\n",
        "backward_right = keras.backend.reverse(backward_right,axes=-2)"
      ],
      "execution_count": null,
      "outputs": []
    },
    {
      "cell_type": "code",
      "metadata": {
        "id": "5zaI_WLshIex"
      },
      "source": [
        "perspectives = 20"
      ],
      "execution_count": null,
      "outputs": []
    },
    {
      "cell_type": "code",
      "metadata": {
        "id": "CRgoDT27hIex"
      },
      "source": [
        "class matching_1(layers.Layer):\n",
        "    def __init__(self, units=perspectives):\n",
        "        super(matching_1, self).__init__()\n",
        "        self.units = units\n",
        "    \n",
        "    def build(self, input_shape):\n",
        "        self.w = self.add_weight(\n",
        "            shape=(self.units,input_shape[0][-1]),\n",
        "            initializer=\"random_normal\",\n",
        "            trainable=True,\n",
        "        )\n",
        "\n",
        "    @tf.function\n",
        "    def call(self, inputs, **kwargs):\n",
        "        left = tf.expand_dims(inputs[0], axis=-2) # b,s,1,d\n",
        "        left = tf.math.multiply(self.w,left) # b,s,p,d\n",
        "        right = tf.expand_dims(inputs[1], axis=-2) # b,1,d\n",
        "        right = tf.math.multiply(self.w,right) # b,p,d\n",
        "        matching = layers.Dot(axes=(3, 2),normalize=True)([left,right]) #b,s,p,p\n",
        "        matching = tf.linalg.diag_part(matching) #b,s,p\n",
        "        return matching"
      ],
      "execution_count": null,
      "outputs": []
    },
    {
      "cell_type": "code",
      "metadata": {
        "id": "Mf8LNwUlhIey"
      },
      "source": [
        "class matching_2(layers.Layer):\n",
        "    def __init__(self, units=perspectives):\n",
        "        super(matching_2, self).__init__()\n",
        "        self.units = units\n",
        "    \n",
        "    def build(self, input_shape):\n",
        "        self.w = self.add_weight(\n",
        "            shape=(self.units,input_shape[0][-1]),\n",
        "            initializer=\"random_normal\",\n",
        "            trainable=True,\n",
        "        )\n",
        "\n",
        "    @tf.function\n",
        "    def call(self, inputs, **kwargs):\n",
        "        left = tf.expand_dims(inputs[0], axis=-2) # b,s,1,d\n",
        "        left = tf.math.multiply(self.w,left) # b,s,p,d\n",
        "        right = tf.expand_dims(inputs[1], axis=-2) # b,s,1,d\n",
        "        right = tf.math.multiply(self.w,right) # b,s,p,d\n",
        "        matching = layers.Dot(axes=(3, 3),normalize=True)([left,right]) #b,s,p,s,p\n",
        "        matching = tf.reduce_max(matching,axis=3)\n",
        "        matching = tf.linalg.diag_part(matching) #b,s,p\n",
        "        return matching"
      ],
      "execution_count": null,
      "outputs": []
    },
    {
      "cell_type": "code",
      "metadata": {
        "id": "vLTAjnQDhIey"
      },
      "source": [
        "class matching_3(layers.Layer):\n",
        "    def __init__(self, units=perspectives):\n",
        "        super(matching_3, self).__init__()\n",
        "        self.units = units\n",
        "    \n",
        "    def build(self, input_shape):\n",
        "        self.w = self.add_weight(\n",
        "            shape=(self.units,input_shape[0][-1]),\n",
        "            initializer=\"random_normal\",\n",
        "            trainable=True,\n",
        "        )\n",
        "        self.sentence_length = input_shape[0][1]\n",
        "\n",
        "    @tf.function\n",
        "    def call(self, inputs, **kwargs):      \n",
        "        aij = layers.Dot(axes=(2,2),normalize=True)([inputs[0],inputs[1]]) # b,s,s\n",
        "        weighted_right = tf.einsum('bsk,bkd->bsd', aij, inputs[1]) # b,s,d\n",
        "        normal = tf.reduce_sum(aij,2,keepdims=True) # b,s,1\n",
        "        right = weighted_right/normal # b,s,d\n",
        "        \n",
        "        left = tf.expand_dims(inputs[0], axis=-2) # b,s,1,d\n",
        "        left = tf.math.multiply(self.w,left) # b,s,p,d\n",
        "        right = tf.expand_dims(right, axis=-2) # b,s,1,d\n",
        "        right = tf.math.multiply(self.w,right) # b,s,p,d\n",
        "        \n",
        "        matching = []\n",
        "        for sentence in range(self.sentence_length):\n",
        "            left_sentence = left[:,sentence,:,:] #b,p,d\n",
        "            right_mean = right[:,sentence,:,:] #b,p,d\n",
        "            match = layers.Dot(axes=(2, 2),normalize=True)([left_sentence,right_mean]) #b,p,p\n",
        "            match = tf.linalg.diag_part(match)\n",
        "            matching.append(match)\n",
        "        matching = tf.stack(matching,axis=1)\n",
        "        return matching"
      ],
      "execution_count": null,
      "outputs": []
    },
    {
      "cell_type": "code",
      "metadata": {
        "id": "pdduxMUbhIey"
      },
      "source": [
        "class matching_4(layers.Layer):\n",
        "    def __init__(self, units=perspectives):\n",
        "        super(matching_4, self).__init__()\n",
        "        self.units = units\n",
        "    \n",
        "    def build(self, input_shape):\n",
        "        self.w = self.add_weight(\n",
        "            shape=(self.units,input_shape[0][-1]),\n",
        "            initializer=\"random_normal\",\n",
        "            trainable=True,\n",
        "        )\n",
        "        self.sentence_length = input_shape[0][1]\n",
        "\n",
        "    @tf.function\n",
        "    def call(self, inputs, **kwargs):\n",
        "        \n",
        "        aij = layers.Dot(axes=(2,2),normalize=True)([inputs[0],inputs[1]]) # b,s,s\n",
        "        argmax_aij = tf.math.argmax(aij,2) # b,s\n",
        "        right = tf.gather(inputs[1],argmax_aij,axis=1,batch_dims=1) # b,s,d\n",
        "        \n",
        "        left = tf.expand_dims(inputs[0], axis=-2) # b,s,1,d\n",
        "        left = tf.math.multiply(self.w,left) # b,s,p,d\n",
        "        right = tf.expand_dims(right, axis=-2) # b,s,1,d\n",
        "        right = tf.math.multiply(self.w,right) # b,s,p,d\n",
        "        \n",
        "        matching = []\n",
        "        for sentence in range(self.sentence_length):\n",
        "            left_sentence = left[:,sentence,:,:] #b,p,d\n",
        "            right_mean = right[:,sentence,:,:] #b,p,d\n",
        "            match = layers.Dot(axes=(2, 2),normalize=True)([left_sentence,right_mean]) #b,p,p\n",
        "            match = tf.linalg.diag_part(match)\n",
        "            matching.append(match)\n",
        "        matching = tf.stack(matching,axis=1)\n",
        "        return matching"
      ],
      "execution_count": null,
      "outputs": []
    },
    {
      "cell_type": "code",
      "metadata": {
        "scrolled": false,
        "id": "p1Xzj1-uhIey"
      },
      "source": [
        "forward_matching_1 = matching_1()\n",
        "backward_matching_1 = matching_1()\n",
        "\n",
        "match_1_forward_pq = forward_matching_1([forward_left,forward_right_final])\n",
        "match_1_forward_qp = forward_matching_1([forward_right,forward_left_final])\n",
        "match_1_backward_pq = backward_matching_1([backward_left,backward_right_final])\n",
        "match_1_backward_qp = backward_matching_1([backward_right,backward_left_final])\n",
        "match_1_pq = layers.Concatenate(axis=2)([match_1_forward_pq,match_1_backward_pq])\n",
        "match_1_qp = layers.Concatenate(axis=2)([match_1_forward_qp,match_1_backward_qp])\n",
        "\n",
        "forward_matching_2 = matching_2()\n",
        "backward_matching_2 = matching_2()\n",
        "match_2_forward_pq = forward_matching_2([forward_left,forward_right])\n",
        "match_2_forward_qp = forward_matching_2([forward_right,forward_left])\n",
        "match_2_backward_pq = backward_matching_2([backward_left,backward_right])\n",
        "match_2_backward_qp = backward_matching_2([backward_right,backward_left])\n",
        "match_2_pq = layers.Concatenate(axis=2)([match_2_forward_pq,match_2_backward_pq])\n",
        "match_2_qp = layers.Concatenate(axis=2)([match_2_forward_qp,match_2_backward_qp])\n",
        "\n",
        "forward_matching_3 = matching_3()\n",
        "backward_matching_3 = matching_3()\n",
        "match_3_forward_pq = forward_matching_3([forward_left,forward_right])\n",
        "match_3_forward_qp = forward_matching_3([forward_right,forward_left])\n",
        "match_3_backward_pq = backward_matching_3([backward_left,backward_right])\n",
        "match_3_backward_qp = backward_matching_3([backward_right,backward_left])\n",
        "match_3_pq = layers.Concatenate(axis=2)([match_3_forward_pq,match_3_backward_pq])\n",
        "match_3_qp = layers.Concatenate(axis=2)([match_3_forward_qp,match_3_backward_qp])\n",
        "\n",
        "forward_matching_4 = matching_4()\n",
        "backward_matching_4 = matching_4()\n",
        "match_4_forward_pq = forward_matching_4([forward_left,forward_right])\n",
        "match_4_forward_qp = forward_matching_4([forward_right,forward_left])\n",
        "match_4_backward_pq = backward_matching_4([backward_left,backward_right])\n",
        "match_4_backward_qp = backward_matching_4([backward_right,backward_left])\n",
        "match_4_pq = layers.Concatenate(axis=2)([match_4_forward_pq,match_4_backward_pq])\n",
        "match_4_qp = layers.Concatenate(axis=2)([match_4_forward_qp,match_4_backward_qp])"
      ],
      "execution_count": null,
      "outputs": []
    },
    {
      "cell_type": "code",
      "metadata": {
        "id": "Xu7iEEkohIez"
      },
      "source": [
        "# all_matching_p = layers.Concatenate(axis=2)([match_1_pq,match_2_pq,match_3_pq,match_4_pq])\n",
        "all_matching_p = layers.Concatenate(axis=2)([match_1_pq,match_2_pq,match_4_pq])\n",
        "# all_matching_q = layers.Concatenate(axis=2)([match_1_qp,match_2_qp,match_3_qp,match_4_qp])\n",
        "all_matching_q = layers.Concatenate(axis=2)([match_1_qp,match_2_qp,match_4_qp])\n",
        "aggregate = layers.Bidirectional(layers.LSTM(64,dropout=0.1))\n",
        "# aggregate_p = aggregate(all_matching_p)\n",
        "aggregate_p = aggregate(all_matching_p)\n",
        "aggregate_q = aggregate(all_matching_q)\n",
        "# aggregate_q = aggregate(all_matching_q)\n",
        "concated = layers.Concatenate(axis=1)([aggregate_p,aggregate_q])\n",
        "x = layers.Dense(128,activation='relu')(concated)\n",
        "x = layers.Dropout(.1)(x)\n",
        "x = layers.Dense(64,activation='relu')(x)\n",
        "x = layers.Dropout(.1)(x)\n",
        "# x = layers.Dense(64,activation='relu')(x)\n",
        "final_output = layers.Dense(2,activation=\"softmax\")(x)"
      ],
      "execution_count": null,
      "outputs": []
    },
    {
      "cell_type": "code",
      "metadata": {
        "scrolled": true,
        "colab": {
          "base_uri": "https://localhost:8080/"
        },
        "id": "_5eQCBUDhIez",
        "outputId": "b32f0fec-0dd7-41ec-c8d6-7ed3c04f8d58"
      },
      "source": [
        "model = keras.Model(inputs=[left_input,right_input], outputs=final_output\n",
        "                    , name=\"BiMPM_model\")\n",
        "model.summary()"
      ],
      "execution_count": null,
      "outputs": [
        {
          "output_type": "stream",
          "text": [
            "Model: \"BiMPM_model\"\n",
            "__________________________________________________________________________________________________\n",
            "Layer (type)                    Output Shape         Param #     Connected to                     \n",
            "==================================================================================================\n",
            "input_1 (InputLayer)            [(None, 40)]         0                                            \n",
            "__________________________________________________________________________________________________\n",
            "input_2 (InputLayer)            [(None, 40)]         0                                            \n",
            "__________________________________________________________________________________________________\n",
            "embedding (Embedding)           (None, 40, 300)      4553700     input_1[0][0]                    \n",
            "                                                                 input_2[0][0]                    \n",
            "__________________________________________________________________________________________________\n",
            "lstm_1 (LSTM)                   [(None, 40, 64), (No 93440       embedding[0][0]                  \n",
            "                                                                 embedding[1][0]                  \n",
            "__________________________________________________________________________________________________\n",
            "lstm (LSTM)                     [(None, 40, 64), (No 93440       embedding[0][0]                  \n",
            "                                                                 embedding[1][0]                  \n",
            "__________________________________________________________________________________________________\n",
            "tf.reverse (TFOpLambda)         (None, 40, 64)       0           lstm_1[0][0]                     \n",
            "__________________________________________________________________________________________________\n",
            "tf.reverse_1 (TFOpLambda)       (None, 40, 64)       0           lstm_1[1][0]                     \n",
            "__________________________________________________________________________________________________\n",
            "matching_1 (matching_1)         (None, 40, 20)       1280        lstm[0][0]                       \n",
            "                                                                 lstm[1][1]                       \n",
            "                                                                 lstm[1][0]                       \n",
            "                                                                 lstm[0][1]                       \n",
            "__________________________________________________________________________________________________\n",
            "matching_1_1 (matching_1)       (None, 40, 20)       1280        tf.reverse[0][0]                 \n",
            "                                                                 lstm_1[1][1]                     \n",
            "                                                                 tf.reverse_1[0][0]               \n",
            "                                                                 lstm_1[0][1]                     \n",
            "__________________________________________________________________________________________________\n",
            "matching_2 (matching_2)         (None, 40, 20)       1280        lstm[0][0]                       \n",
            "                                                                 lstm[1][0]                       \n",
            "                                                                 lstm[1][0]                       \n",
            "                                                                 lstm[0][0]                       \n",
            "__________________________________________________________________________________________________\n",
            "matching_2_1 (matching_2)       (None, 40, 20)       1280        tf.reverse[0][0]                 \n",
            "                                                                 tf.reverse_1[0][0]               \n",
            "                                                                 tf.reverse_1[0][0]               \n",
            "                                                                 tf.reverse[0][0]                 \n",
            "__________________________________________________________________________________________________\n",
            "matching_4 (matching_4)         (None, 40, 20)       1280        lstm[0][0]                       \n",
            "                                                                 lstm[1][0]                       \n",
            "                                                                 lstm[1][0]                       \n",
            "                                                                 lstm[0][0]                       \n",
            "__________________________________________________________________________________________________\n",
            "matching_4_1 (matching_4)       (None, 40, 20)       1280        tf.reverse[0][0]                 \n",
            "                                                                 tf.reverse_1[0][0]               \n",
            "                                                                 tf.reverse_1[0][0]               \n",
            "                                                                 tf.reverse[0][0]                 \n",
            "__________________________________________________________________________________________________\n",
            "concatenate (Concatenate)       (None, 40, 40)       0           matching_1[0][0]                 \n",
            "                                                                 matching_1_1[0][0]               \n",
            "__________________________________________________________________________________________________\n",
            "concatenate_2 (Concatenate)     (None, 40, 40)       0           matching_2[0][0]                 \n",
            "                                                                 matching_2_1[0][0]               \n",
            "__________________________________________________________________________________________________\n",
            "concatenate_6 (Concatenate)     (None, 40, 40)       0           matching_4[0][0]                 \n",
            "                                                                 matching_4_1[0][0]               \n",
            "__________________________________________________________________________________________________\n",
            "concatenate_1 (Concatenate)     (None, 40, 40)       0           matching_1[1][0]                 \n",
            "                                                                 matching_1_1[1][0]               \n",
            "__________________________________________________________________________________________________\n",
            "concatenate_3 (Concatenate)     (None, 40, 40)       0           matching_2[1][0]                 \n",
            "                                                                 matching_2_1[1][0]               \n",
            "__________________________________________________________________________________________________\n",
            "concatenate_7 (Concatenate)     (None, 40, 40)       0           matching_4[1][0]                 \n",
            "                                                                 matching_4_1[1][0]               \n",
            "__________________________________________________________________________________________________\n",
            "concatenate_8 (Concatenate)     (None, 40, 120)      0           concatenate[0][0]                \n",
            "                                                                 concatenate_2[0][0]              \n",
            "                                                                 concatenate_6[0][0]              \n",
            "__________________________________________________________________________________________________\n",
            "concatenate_9 (Concatenate)     (None, 40, 120)      0           concatenate_1[0][0]              \n",
            "                                                                 concatenate_3[0][0]              \n",
            "                                                                 concatenate_7[0][0]              \n",
            "__________________________________________________________________________________________________\n",
            "bidirectional (Bidirectional)   (None, 128)          94720       concatenate_8[0][0]              \n",
            "                                                                 concatenate_9[0][0]              \n",
            "__________________________________________________________________________________________________\n",
            "concatenate_10 (Concatenate)    (None, 256)          0           bidirectional[0][0]              \n",
            "                                                                 bidirectional[1][0]              \n",
            "__________________________________________________________________________________________________\n",
            "dense (Dense)                   (None, 128)          32896       concatenate_10[0][0]             \n",
            "__________________________________________________________________________________________________\n",
            "dropout (Dropout)               (None, 128)          0           dense[0][0]                      \n",
            "__________________________________________________________________________________________________\n",
            "dense_1 (Dense)                 (None, 64)           8256        dropout[0][0]                    \n",
            "__________________________________________________________________________________________________\n",
            "dropout_1 (Dropout)             (None, 64)           0           dense_1[0][0]                    \n",
            "__________________________________________________________________________________________________\n",
            "dense_2 (Dense)                 (None, 2)            130         dropout_1[0][0]                  \n",
            "==================================================================================================\n",
            "Total params: 4,884,262\n",
            "Trainable params: 330,562\n",
            "Non-trainable params: 4,553,700\n",
            "__________________________________________________________________________________________________\n"
          ],
          "name": "stdout"
        }
      ]
    },
    {
      "cell_type": "code",
      "metadata": {
        "scrolled": true,
        "colab": {
          "base_uri": "https://localhost:8080/",
          "height": 425
        },
        "id": "pb8r9fe1hIez",
        "outputId": "0de4b8ca-58dc-4aeb-83ef-55e318dc3169"
      },
      "source": [
        "keras.utils.plot_model(model, \"BiMPM.png\", show_shapes=True)"
      ],
      "execution_count": null,
      "outputs": [
        {
          "output_type": "execute_result",
          "data": {
            "image/png": "[encoded data removed]",
            "text/plain": [
              "<IPython.core.display.Image object>"
            ]
          },
          "metadata": {
            "tags": []
          },
          "execution_count": 46
        }
      ]
    },
    {
      "cell_type": "code",
      "metadata": {
        "id": "mdk4ICgJhIe0"
      },
      "source": [
        "metrics = [tf.keras.metrics.SparseCategoricalAccuracy('accuracy', dtype=tf.float32)]\n",
        "loss = tf.keras.losses.SparseCategoricalCrossentropy()\n",
        "\n",
        "model.compile(\n",
        "    optimizer='adam',\n",
        "    loss=loss,\n",
        "    metrics=metrics)"
      ],
      "execution_count": null,
      "outputs": []
    },
    {
      "cell_type": "code",
      "metadata": {
        "id": "7h-CkNpRhIe0"
      },
      "source": [
        "# model.compile(loss='SparseCategoricalCrossentropy', optimizer='adam', metrics=['accuracy'])"
      ],
      "execution_count": null,
      "outputs": []
    },
    {
      "cell_type": "code",
      "metadata": {
        "colab": {
          "base_uri": "https://localhost:8080/"
        },
        "id": "TBUSOG2xhIe0",
        "outputId": "0de2f246-d21c-4324-e161-278c8eced06f"
      },
      "source": [
        "hist = model.fit([X_train[:,0], X_train[:,1]], Y_train, batch_size=16, epochs=3,\n",
        "                            validation_data=([X_validation[:,0], X_validation[:,1]], Y_validation))"
      ],
      "execution_count": null,
      "outputs": [
        {
          "output_type": "stream",
          "text": [
            "Epoch 1/3\n",
            "290/290 [==============================] - 438s 1s/step - loss: 0.6219 - accuracy: 0.6676 - val_loss: 0.5610 - val_accuracy: 0.7218\n",
            "Epoch 2/3\n",
            "290/290 [==============================] - 391s 1s/step - loss: 0.5608 - accuracy: 0.7212 - val_loss: 0.5601 - val_accuracy: 0.7356\n",
            "Epoch 3/3\n",
            "290/290 [==============================] - 398s 1s/step - loss: 0.4923 - accuracy: 0.7724 - val_loss: 0.5499 - val_accuracy: 0.7244\n"
          ],
          "name": "stdout"
        }
      ]
    },
    {
      "cell_type": "code",
      "metadata": {
        "colab": {
          "base_uri": "https://localhost:8080/"
        },
        "id": "txqQ9gsCIByi",
        "outputId": "ba05c2b7-cd76-4871-9dcd-5ed8a881ffea"
      },
      "source": [
        "print(X_train[:,0])"
      ],
      "execution_count": null,
      "outputs": [
        {
          "output_type": "stream",
          "text": [
            "[[    0     0     0 ...   726  8926 10931]\n",
            " [    0     0     0 ...  1678    16  2182]\n",
            " [    0     0     0 ...    37  8385  8386]\n",
            " ...\n",
            " [    0     0     0 ...  2675     1  2676]\n",
            " [    0     0     0 ...  1700    11  1294]\n",
            " [    0     0     0 ...   105     9  3023]]\n"
          ],
          "name": "stdout"
        }
      ]
    },
    {
      "cell_type": "code",
      "metadata": {
        "colab": {
          "base_uri": "https://localhost:8080/"
        },
        "id": "3PxEQ0r2A6Bk",
        "outputId": "99ac2fe1-c00f-45bd-95e7-1af8098aa098"
      },
      "source": [
        "clf = model.fit([X_train[:,0], X_train[:,1]], Y_train, batch_size=16, epochs=3)"
      ],
      "execution_count": null,
      "outputs": [
        {
          "output_type": "stream",
          "text": [
            "Epoch 1/3\n",
            "290/290 [==============================] - 374s 1s/step - loss: 0.4303 - accuracy: 0.8097\n",
            "Epoch 2/3\n",
            "290/290 [==============================] - 374s 1s/step - loss: 0.3700 - accuracy: 0.8427\n",
            "Epoch 3/3\n",
            "290/290 [==============================] - 377s 1s/step - loss: 0.2953 - accuracy: 0.8823\n"
          ],
          "name": "stdout"
        }
      ]
    },
    {
      "cell_type": "code",
      "metadata": {
        "colab": {
          "base_uri": "https://localhost:8080/",
          "height": 295
        },
        "id": "ul46KcnOG-0L",
        "outputId": "c88682a6-181d-459e-85ce-a519c3a13b80"
      },
      "source": [
        "plt.plot(clf.history['accuracy'])\n",
        "# plt.plot(clf.history['val_accuracy'])\n",
        "plt.title('Model Accuracy')\n",
        "plt.ylabel('Accuracy')\n",
        "plt.xlabel('Epoch')\n",
        "plt.legend(['Train', 'Validation'], loc='upper left')\n",
        "plt.show()\n"
      ],
      "execution_count": null,
      "outputs": [
        {
          "output_type": "display_data",
          "data": {
            "image/png": "[encoded data removed]",
            "text/plain": [
              "<Figure size 432x288 with 1 Axes>"
            ]
          },
          "metadata": {
            "tags": [],
            "needs_background": "light"
          }
        }
      ]
    },
    {
      "cell_type": "code",
      "metadata": {
        "colab": {
          "base_uri": "https://localhost:8080/",
          "height": 573
        },
        "id": "d2ed-E6khIe0",
        "outputId": "27841cc8-8519-4f37-f90f-0f54073a04de"
      },
      "source": [
        "# Plot accuracy\n",
        "plt.plot(hist.history['accuracy'])\n",
        "plt.plot(hist.history['val_accuracy'])\n",
        "plt.title('Model Accuracy')\n",
        "plt.ylabel('Accuracy')\n",
        "plt.xlabel('Epoch')\n",
        "plt.legend(['Train', 'Validation'], loc='upper left')\n",
        "plt.show()\n",
        "\n",
        "# Plot loss\n",
        "plt.plot(hist.history['loss'])\n",
        "plt.plot(hist.history['val_loss'])\n",
        "plt.title('Model Loss')\n",
        "plt.ylabel('Loss')\n",
        "plt.xlabel('Epoch')\n",
        "plt.legend(['Train', 'Validation'], loc='upper right')\n",
        "plt.show()"
      ],
      "execution_count": null,
      "outputs": [
        {
          "output_type": "display_data",
          "data": {
            "image/png": "[encoded data removed]",
            "text/plain": [
              "<Figure size 432x288 with 1 Axes>"
            ]
          },
          "metadata": {
            "tags": [],
            "needs_background": "light"
          }
        },
        {
          "output_type": "display_data",
          "data": {
            "image/png": "[encoded data removed]",
            "text/plain": [
              "<Figure size 432x288 with 1 Axes>"
            ]
          },
          "metadata": {
            "tags": [],
            "needs_background": "light"
          }
        }
      ]
    },
    {
      "cell_type": "code",
      "metadata": {
        "id": "YFV7Njh_hIe0"
      },
      "source": [
        "model.save_weights(\"/content/drive/MyDrive/PD/ress\",save_format=\"h5\")"
      ],
      "execution_count": null,
      "outputs": []
    },
    {
      "cell_type": "code",
      "metadata": {
        "id": "npGUeOYChIe1"
      },
      "source": [
        "with open('/content/drive/MyDrive/PD/ress.json', 'w') as f:\n",
        "    json.dump(hist.history, f)"
      ],
      "execution_count": null,
      "outputs": []
    },
    {
      "cell_type": "code",
      "metadata": {
        "colab": {
          "base_uri": "https://localhost:8080/",
          "height": 353
        },
        "id": "KyFJwRZuhIe1",
        "outputId": "5f77a69e-56f9-4cfb-c362-32a169f2768b"
      },
      "source": [
        "s1 = {\"Harry Potter defeated Voldemort\"}\n",
        "s2 = {\"Voldemort was defeated by Harry Potter\"}\n",
        "y = model.fit([s1,s2])"
      ],
      "execution_count": null,
      "outputs": [
        {
          "output_type": "error",
          "ename": "ValueError",
          "evalue": "ignored",
          "traceback": [
            "\u001b[0;31m---------------------------------------------------------------------------\u001b[0m",
            "\u001b[0;31mValueError\u001b[0m                                Traceback (most recent call last)",
            "\u001b[0;32m<ipython-input-67-4a89206f3177>\u001b[0m in \u001b[0;36m<module>\u001b[0;34m()\u001b[0m\n\u001b[1;32m      1\u001b[0m \u001b[0ms1\u001b[0m \u001b[0;34m=\u001b[0m \u001b[0;34m{\u001b[0m\u001b[0;34m\"Harry Potter defeated Voldemort\"\u001b[0m\u001b[0;34m}\u001b[0m\u001b[0;34m\u001b[0m\u001b[0;34m\u001b[0m\u001b[0m\n\u001b[1;32m      2\u001b[0m \u001b[0ms2\u001b[0m \u001b[0;34m=\u001b[0m \u001b[0;34m{\u001b[0m\u001b[0;34m\"Voldemort was defeated by Harry Potter\"\u001b[0m\u001b[0;34m}\u001b[0m\u001b[0;34m\u001b[0m\u001b[0;34m\u001b[0m\u001b[0m\n\u001b[0;32m----> 3\u001b[0;31m \u001b[0my\u001b[0m \u001b[0;34m=\u001b[0m \u001b[0mmodel\u001b[0m\u001b[0;34m.\u001b[0m\u001b[0mfit\u001b[0m\u001b[0;34m(\u001b[0m\u001b[0;34m[\u001b[0m\u001b[0ms1\u001b[0m\u001b[0;34m,\u001b[0m\u001b[0ms2\u001b[0m\u001b[0;34m]\u001b[0m\u001b[0;34m)\u001b[0m\u001b[0;34m\u001b[0m\u001b[0;34m\u001b[0m\u001b[0m\n\u001b[0m",
            "\u001b[0;32m/usr/local/lib/python3.7/dist-packages/tensorflow/python/keras/engine/training.py\u001b[0m in \u001b[0;36mfit\u001b[0;34m(self, x, y, batch_size, epochs, verbose, callbacks, validation_split, validation_data, shuffle, class_weight, sample_weight, initial_epoch, steps_per_epoch, validation_steps, validation_batch_size, validation_freq, max_queue_size, workers, use_multiprocessing)\u001b[0m\n\u001b[1;32m   1062\u001b[0m           \u001b[0muse_multiprocessing\u001b[0m\u001b[0;34m=\u001b[0m\u001b[0muse_multiprocessing\u001b[0m\u001b[0;34m,\u001b[0m\u001b[0;34m\u001b[0m\u001b[0;34m\u001b[0m\u001b[0m\n\u001b[1;32m   1063\u001b[0m           \u001b[0mmodel\u001b[0m\u001b[0;34m=\u001b[0m\u001b[0mself\u001b[0m\u001b[0;34m,\u001b[0m\u001b[0;34m\u001b[0m\u001b[0;34m\u001b[0m\u001b[0m\n\u001b[0;32m-> 1064\u001b[0;31m           steps_per_execution=self._steps_per_execution)\n\u001b[0m\u001b[1;32m   1065\u001b[0m \u001b[0;34m\u001b[0m\u001b[0m\n\u001b[1;32m   1066\u001b[0m       \u001b[0;31m# Container that configures and calls `tf.keras.Callback`s.\u001b[0m\u001b[0;34m\u001b[0m\u001b[0;34m\u001b[0m\u001b[0;34m\u001b[0m\u001b[0m\n",
            "\u001b[0;32m/usr/local/lib/python3.7/dist-packages/tensorflow/python/keras/engine/data_adapter.py\u001b[0m in \u001b[0;36m__init__\u001b[0;34m(self, x, y, sample_weight, batch_size, steps_per_epoch, initial_epoch, epochs, shuffle, class_weight, max_queue_size, workers, use_multiprocessing, model, steps_per_execution)\u001b[0m\n\u001b[1;32m   1097\u001b[0m       \u001b[0mself\u001b[0m\u001b[0;34m.\u001b[0m\u001b[0m_steps_per_execution_value\u001b[0m \u001b[0;34m=\u001b[0m \u001b[0msteps_per_execution\u001b[0m\u001b[0;34m.\u001b[0m\u001b[0mnumpy\u001b[0m\u001b[0;34m(\u001b[0m\u001b[0;34m)\u001b[0m\u001b[0;34m.\u001b[0m\u001b[0mitem\u001b[0m\u001b[0;34m(\u001b[0m\u001b[0;34m)\u001b[0m\u001b[0;34m\u001b[0m\u001b[0;34m\u001b[0m\u001b[0m\n\u001b[1;32m   1098\u001b[0m \u001b[0;34m\u001b[0m\u001b[0m\n\u001b[0;32m-> 1099\u001b[0;31m     \u001b[0madapter_cls\u001b[0m \u001b[0;34m=\u001b[0m \u001b[0mselect_data_adapter\u001b[0m\u001b[0;34m(\u001b[0m\u001b[0mx\u001b[0m\u001b[0;34m,\u001b[0m \u001b[0my\u001b[0m\u001b[0;34m)\u001b[0m\u001b[0;34m\u001b[0m\u001b[0;34m\u001b[0m\u001b[0m\n\u001b[0m\u001b[1;32m   1100\u001b[0m     self._adapter = adapter_cls(\n\u001b[1;32m   1101\u001b[0m         \u001b[0mx\u001b[0m\u001b[0;34m,\u001b[0m\u001b[0;34m\u001b[0m\u001b[0;34m\u001b[0m\u001b[0m\n",
            "\u001b[0;32m/usr/local/lib/python3.7/dist-packages/tensorflow/python/keras/engine/data_adapter.py\u001b[0m in \u001b[0;36mselect_data_adapter\u001b[0;34m(x, y)\u001b[0m\n\u001b[1;32m    962\u001b[0m         \u001b[0;34m\"Failed to find data adapter that can handle \"\u001b[0m\u001b[0;34m\u001b[0m\u001b[0;34m\u001b[0m\u001b[0m\n\u001b[1;32m    963\u001b[0m         \"input: {}, {}\".format(\n\u001b[0;32m--> 964\u001b[0;31m             _type_name(x), _type_name(y)))\n\u001b[0m\u001b[1;32m    965\u001b[0m   \u001b[0;32melif\u001b[0m \u001b[0mlen\u001b[0m\u001b[0;34m(\u001b[0m\u001b[0madapter_cls\u001b[0m\u001b[0;34m)\u001b[0m \u001b[0;34m>\u001b[0m \u001b[0;36m1\u001b[0m\u001b[0;34m:\u001b[0m\u001b[0;34m\u001b[0m\u001b[0;34m\u001b[0m\u001b[0m\n\u001b[1;32m    966\u001b[0m     raise RuntimeError(\n",
            "\u001b[0;31mValueError\u001b[0m: Failed to find data adapter that can handle input: (<class 'list'> containing values of types {\"<class 'set'>\"}), <class 'NoneType'>"
          ]
        }
      ]
    },
    {
      "cell_type": "code",
      "metadata": {
        "id": "jDr2IyGfsZop"
      },
      "source": [
        "clf = model.predict([X_validation[:,0], X_validation[:,1]]) "
      ],
      "execution_count": null,
      "outputs": []
    },
    {
      "cell_type": "code",
      "metadata": {
        "colab": {
          "base_uri": "https://localhost:8080/"
        },
        "id": "dPexTxrYAdmO",
        "outputId": "b25dfa1b-38d2-467c-c56c-d214b53e2ff7"
      },
      "source": [
        "print(clf)"
      ],
      "execution_count": null,
      "outputs": [
        {
          "output_type": "stream",
          "text": [
            "[[2.5756773e-01 7.4243230e-01]\n",
            " [8.1026532e-02 9.1897351e-01]\n",
            " [2.9539507e-02 9.7046047e-01]\n",
            " ...\n",
            " [9.6338708e-03 9.9036610e-01]\n",
            " [9.9950254e-01 4.9740286e-04]\n",
            " [1.0596128e-01 8.9403874e-01]]\n"
          ],
          "name": "stdout"
        }
      ]
    },
    {
      "cell_type": "code",
      "metadata": {
        "colab": {
          "base_uri": "https://localhost:8080/"
        },
        "id": "_ZFCWC3tKoT8",
        "outputId": "d9984d2f-882b-4334-9b97-e8034007d823"
      },
      "source": [
        "print((X_validation[0,1]))"
      ],
      "execution_count": null,
      "outputs": [
        {
          "output_type": "stream",
          "text": [
            "[   0    0    0    0    0    0    0    0    0    0    0    0    0    0\n",
            "    0    0    0    0    0    0    0    0    0    0    0  325 4472  449\n",
            "    9 2499   37  342 1177 2643    9 2499   63 5278  380 1738]\n"
          ],
          "name": "stdout"
        }
      ]
    },
    {
      "cell_type": "code",
      "metadata": {
        "colab": {
          "base_uri": "https://localhost:8080/"
        },
        "id": "jC48vVi_Ly_J",
        "outputId": "89e35267-b7a5-471e-e3b2-cc23a8581b2c"
      },
      "source": [
        "print(len(clf))"
      ],
      "execution_count": null,
      "outputs": [
        {
          "output_type": "stream",
          "text": [
            "1161\n"
          ],
          "name": "stdout"
        }
      ]
    },
    {
      "cell_type": "code",
      "metadata": {
        "id": "GCxcWno8L73a"
      },
      "source": [
        ""
      ],
      "execution_count": null,
      "outputs": []
    }
  ]
}